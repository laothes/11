{
 "cells": [
  {
   "cell_type": "code",
   "execution_count": 1,
   "id": "6b39b51d",
   "metadata": {},
   "outputs": [],
   "source": [
    "# import libraries\n",
    "\n",
    "# to handle the data\n",
    "import pandas as pd\n",
    "import numpy as np\n",
    "\n",
    "# to visualize the dataset\n",
    "import matplotlib.pyplot as plt\n",
    "import seaborn as sns\n",
    "import plotly.graph_objects as go\n",
    "\n",
    "# to preprocess the data\n",
    "from sklearn.preprocessing import MinMaxScaler, LabelEncoder    \n",
    "\n",
    "# machine learning\n",
    "from sklearn.model_selection import StratifiedKFold\n",
    "from sklearn.feature_extraction.text import TfidfVectorizer\n",
    "from sklearn.decomposition import TruncatedSVD\n",
    "from sklearn.model_selection import cross_val_score\n",
    "from sklearn.preprocessing import LabelEncoder\n",
    "from sklearn import metrics\n",
    "from sklearn.utils import shuffle\n",
    "\n",
    "# model\n",
    "import lightgbm as lgb\n",
    "from catboost import CatBoostClassifier, Pool\n",
    "import xgboost as xgb\n",
    "from sklearn.ensemble import RandomForestClassifier\n",
    "from sklearn import svm\n",
    "\n",
    "# evaluation\n",
    "from sklearn.metrics import roc_auc_score, accuracy_score\n",
    "\n",
    "# max columns \n",
    "pd.set_option('display.max_columns', None)\n",
    "\n",
    "# hide warnings\n",
    "import warnings\n",
    "warnings.filterwarnings('ignore')\n",
    "\n",
    "# adjust parameters\n",
    "import optuna\n",
    "\n",
    "# sampling\n",
    "from imblearn.over_sampling import SMOTE\n",
    "from imblearn.combine import SMOTETomek\n",
    "\n",
    "from collections import Counter\n",
    "from math import *"
   ]
  },
  {
   "cell_type": "code",
   "execution_count": 2,
   "id": "ea7ed0ae",
   "metadata": {},
   "outputs": [],
   "source": [
    "# train data\n",
    "df = pd.read_csv(\"bank-full.csv\",sep = ';')\n",
    "df = shuffle(df,random_state = 42)"
   ]
  },
  {
   "cell_type": "code",
   "execution_count": 3,
   "id": "30656f1a",
   "metadata": {},
   "outputs": [],
   "source": [
    "def get_vectors(df_train,df_test,col_name):\n",
    "\n",
    "    vectorizer = TfidfVectorizer(max_features=1024)\n",
    "    vectors_train = vectorizer.fit_transform(df_train[col_name])\n",
    "    vectors_test = vectorizer.transform(df_test[col_name])\n",
    "    \n",
    "    #Dimensionality Reduction Using SVD ( Singular Value Decompostion)\n",
    "    svd = TruncatedSVD(8)\n",
    "    x_sv_train = svd.fit_transform(vectors_train)\n",
    "    x_sv_test = svd.transform(vectors_test)\n",
    "\n",
    "    # Convert to DataFrames\n",
    "    tfidf_df_train = pd.DataFrame(x_sv_train)\n",
    "    tfidf_df_test = pd.DataFrame(x_sv_test)\n",
    "\n",
    "    # Naming columns in the new DataFrames\n",
    "    cols = [(col_name + \"_tfidf_\" + str(f)) for f in tfidf_df_train.columns.to_list()]\n",
    "    tfidf_df_train.columns = cols\n",
    "    tfidf_df_test.columns = cols\n",
    "\n",
    "    # Reset the index of the DataFrames before concatenation\n",
    "    df_train = df_train.reset_index(drop=True)\n",
    "    df_test = df_test.reset_index(drop=True)\n",
    "\n",
    "    # Concatenate transformed features with original data\n",
    "    df_train = pd.concat([df_train, tfidf_df_train], axis=\"columns\")\n",
    "    df_test = pd.concat([df_test, tfidf_df_test], axis=\"columns\")\n",
    "    \n",
    "    # remove the duplicates\n",
    "    df_train = df_train.groupby(level=0,axis=1).last()\n",
    "    df_test = df_test.groupby(level=0,axis=1).last()\n",
    "    \n",
    "    return df_train,df_test\n",
    "\n",
    "\n",
    "def label_binary(df_train,df_test):\n",
    "    # 'default','housing','loan' - binary\n",
    "    # no = 0, yes =1\n",
    "    label_encoder = LabelEncoder()\n",
    "    object_cols = ['default','housing','loan','y']\n",
    "    for col in object_cols:\n",
    "        df_train[col] = label_encoder.fit_transform(df_train[col])\n",
    "        df_test[col] = label_encoder.transform(df_test[col])\n",
    "    return df_train,df_test\n",
    "\n",
    "def onehot(df):\n",
    "    cat_cols = ['marital','education','contact','poutcome']\n",
    "    #onehotEncoding\n",
    "    try:\n",
    "        df=pd.get_dummies(df,columns=cat_cols)\n",
    "        return df\n",
    "    except:\n",
    "        print('there is no cat_cols in the df')\n",
    "        return df\n",
    "    \n",
    "def MCC(y_true, y_pred):\n",
    "    cm = metrics.confusion_matrix(y_true, y_pred)\n",
    "    TP = cm[0][0]\n",
    "    FN = cm[0][1]\n",
    "    FP = cm[1][0]\n",
    "    TN = cm[1][1]\n",
    "    mcc = (TP*TN-FP*FN)/sqrt((TP+FP)*(TP+FN)*(TN+FP)*(TN+FN))\n",
    "    return mcc"
   ]
  },
  {
   "cell_type": "code",
   "execution_count": 4,
   "id": "94ff71f2",
   "metadata": {},
   "outputs": [
    {
     "name": "stdout",
     "output_type": "stream",
     "text": [
      "The Shape Of X is (63062, 32)\n",
      "The Shape Of y is (63062,)\n",
      "The Shape Of X is (62868, 32)\n",
      "The Shape Of y is (62868,)\n",
      "The Shape Of X is (63064, 32)\n",
      "The Shape Of y is (63064,)\n",
      "The Shape Of X is (62826, 32)\n",
      "The Shape Of y is (62826,)\n",
      "The Shape Of X is (62946, 32)\n",
      "The Shape Of y is (62946,)\n"
     ]
    }
   ],
   "source": [
    "X_kos_folds = []\n",
    "y_kos_folds = []\n",
    "df_test_folds = []\n",
    "feat_cols_folds = []\n",
    "k = 5\n",
    "for i in range(k):\n",
    "    \n",
    "    # 5 folds split\n",
    "    n = df.shape[0]//5 # split point\n",
    "    df_train = pd.concat([df[:i*n],df[(i+1)*n:]])\n",
    "    df_test = df[i*n:(i+1)*n]\n",
    "\n",
    "    # process numerical variables\n",
    "    numeirc_cols = ['age','balance','duration','campaign','pdays','previous','day']\n",
    "    for col in numeirc_cols:\n",
    "        sc = MinMaxScaler()\n",
    "        df_train[col+\"_scaled\"] = sc.fit_transform(df_train[[col]])\n",
    "        df_test[col+\"_scaled\"] = sc.transform(df_test[[col]])\n",
    "    \n",
    "    # process categorical variables\n",
    "    df_train,df_test = label_binary(df_train,df_test)\n",
    "    df_train = onehot(df_train)\n",
    "    df_test = onehot(df_test)\n",
    "    \n",
    "    # Selecting Columns FOr use \n",
    "    feat_cols=df_train.columns.drop(['y'])\n",
    "    feat_cols=feat_cols.drop(numeirc_cols)\n",
    "    \n",
    "    # choose predictor and responser\n",
    "    X=df_train[feat_cols]\n",
    "    y=df_train['y']\n",
    "    \n",
    "    # combining sampling\n",
    "    kos = SMOTETomek(random_state=0)\n",
    "    X_kos, y_kos = kos.fit_resample(X, y)\n",
    "    print(f'The Shape Of X is {X_kos.shape}')\n",
    "    print(f'The Shape Of y is {y_kos.shape}')\n",
    "    \n",
    "    X_kos_folds.append(X_kos)\n",
    "    y_kos_folds.append(y_kos)\n",
    "    df_test_folds.append(df_test)\n",
    "    feat_cols_folds.append(feat_cols)"
   ]
  },
  {
   "cell_type": "code",
   "execution_count": 5,
   "id": "ea2ee42b",
   "metadata": {},
   "outputs": [],
   "source": [
    "def plot_matrix(cm, labels_name, title=None, thresh=0.8, axis_labels=None):\n",
    "# 利用sklearn中的函数生成混淆矩阵并归一化\n",
    "    cm = cm.astype('float') / cm.sum(axis=1)[:, np.newaxis]  # 归一化\n",
    "\n",
    "# 画图，如果希望改变颜色风格，可以改变此部分的cmap=pl.get_cmap('Blues')处\n",
    "    plt.imshow(cm, interpolation='nearest', cmap=plt.get_cmap('Blues'))\n",
    "    plt.colorbar()  # 绘制图例\n",
    "\n",
    "# 图像标题\n",
    "    if title is not None:\n",
    "        plt.title(title)\n",
    "# 绘制坐标\n",
    "    num_local = np.array(range(len(labels_name)))\n",
    "    if axis_labels is None:\n",
    "        axis_labels = labels_name\n",
    "    plt.xticks(num_local, axis_labels, rotation=45)  # 将标签印在x轴坐标上， 并倾斜45度\n",
    "    plt.yticks(num_local, axis_labels)  # 将标签印在y轴坐标上\n",
    "    plt.ylabel('True label')\n",
    "    plt.xlabel('Predicted label')\n",
    "\n",
    "# 将百分比打印在相应的格子内，大于thresh的用白字，小于的用黑字\n",
    "    for i in range(np.shape(cm)[0]):\n",
    "        for j in range(np.shape(cm)[1]):\n",
    "            if int(cm[i][j] * 100 + 0.5) > 0:\n",
    "                plt.text(j, i, format(int(cm[i][j] * 100 + 0.5), 'd') + '%',\n",
    "                        ha=\"center\", va=\"center\",\n",
    "                        color=\"white\" if cm[i][j] > thresh else \"black\")  # 如果要更改颜色风格，需要同时更改此行\n",
    "                "
   ]
  },
  {
   "cell_type": "code",
   "execution_count": 24,
   "id": "e34a612a",
   "metadata": {},
   "outputs": [
    {
     "name": "stderr",
     "output_type": "stream",
     "text": [
      "[I 2024-09-28 00:18:23,854] A new study created in memory with name: no-name-8827e9f9-c480-40e4-9b8c-0cfb9fb2f3fd\n",
      "Best trial: 0. Best value: 0.521434: 100%|██████████| 1/1 [00:02<00:00,  2.07s/it]"
     ]
    },
    {
     "name": "stdout",
     "output_type": "stream",
     "text": [
      "[I 2024-09-28 00:18:25,922] Trial 0 finished with value: 0.5214336802155245 and parameters: {}. Best is trial 0 with value: 0.5214336802155245.\n"
     ]
    },
    {
     "name": "stderr",
     "output_type": "stream",
     "text": [
      "\n"
     ]
    }
   ],
   "source": [
    "# LightGBM Parameters adjusting\n",
    "def objective(trial):\n",
    "    Params = {\n",
    "        'n_estimators': 227,#trial.suggest_int('n_estimators',100, 400),\n",
    "        'num_leaves': 127,#trial.suggest_int('num_leaves',100,300),\n",
    "        'learning_rate': 0.015,#trial.suggest_categorical('learning_rate',[0.01,0.005,0.015,0.02,0.025]),\n",
    "        'max_depth': 43,#trial.suggest_int('max_depth',20,80),\n",
    "        'min_child_weight': 1e-05,#trial.suggest_categorical('min_child_weight',[0.001,0.0001,0.00001,0.000001,0.0000001,0]),\n",
    "        'min_child_samples': 12,#trial.suggest_int('min_child_samples',5, 32),\n",
    "        'subsample': 0.9, #trial.suggest_categorical('subsample',[0.8,0.9,1]),\n",
    "        'colsample_bytree': 0.8, #trial.suggest_categorical('colsample_bytree',[0.8,0.9,1]),\n",
    "        'verbose':-1\n",
    "    }\n",
    "    \n",
    "    lgb_mcc = []\n",
    "    for i in range(k):\n",
    "        X_kos = X_kos_folds[i]\n",
    "        y_kos = y_kos_folds[i]\n",
    "        df_test = df_test_folds[i]\n",
    "        feat_cols = feat_cols_folds[i]\n",
    "\n",
    "        # train the model\n",
    "        lgb_model = lgb.LGBMClassifier(**Params)\n",
    "        lgb_model.fit(X_kos,y_kos)\n",
    "        test_predictions = lgb_model.predict_proba(df_test[feat_cols])[:, 1]\n",
    "        test_labels = [i >= 0.5 for i in test_predictions]\n",
    "        mcc = MCC(df_test['y'], test_labels)\n",
    "        lgb_mcc.append(mcc)\n",
    "\n",
    "    return sum(lgb_mcc)/5\n",
    "\n",
    "study = optuna.create_study(direction='maximize')\n",
    "study.optimize(objective, n_trials=50,show_progress_bar=True)"
   ]
  },
  {
   "cell_type": "code",
   "execution_count": 18,
   "id": "641365fc",
   "metadata": {},
   "outputs": [
    {
     "name": "stdout",
     "output_type": "stream",
     "text": [
      "Best Params: {'n_estimators': 226, 'num_leaves': 127, 'learning_rate': 0.015, 'max_depth': 43, 'min_child_weight': 1e-05, 'min_child_samples': 12}\n"
     ]
    },
    {
     "data": {
      "application/vnd.plotly.v1+json": {
       "config": {
        "plotlyServerURL": "https://plot.ly"
       },
       "data": [
        {
         "cliponaxis": false,
         "hovertemplate": [
          "max_depth (IntDistribution): 0.01012380979629119<extra></extra>",
          "min_child_samples (IntDistribution): 0.016063943718488898<extra></extra>",
          "min_child_weight (CategoricalDistribution): 0.06573564886880533<extra></extra>",
          "learning_rate (CategoricalDistribution): 0.10644087025093757<extra></extra>",
          "num_leaves (IntDistribution): 0.15432529551607663<extra></extra>",
          "n_estimators (IntDistribution): 0.6473104318494004<extra></extra>"
         ],
         "name": "Objective Value",
         "orientation": "h",
         "text": [
          "0.01",
          "0.02",
          "0.07",
          "0.11",
          "0.15",
          "0.65"
         ],
         "textposition": "outside",
         "type": "bar",
         "x": [
          0.01012380979629119,
          0.016063943718488898,
          0.06573564886880533,
          0.10644087025093757,
          0.15432529551607663,
          0.6473104318494004
         ],
         "y": [
          "max_depth",
          "min_child_samples",
          "min_child_weight",
          "learning_rate",
          "num_leaves",
          "n_estimators"
         ]
        }
       ],
       "layout": {
        "template": {
         "data": {
          "bar": [
           {
            "error_x": {
             "color": "#2a3f5f"
            },
            "error_y": {
             "color": "#2a3f5f"
            },
            "marker": {
             "line": {
              "color": "#E5ECF6",
              "width": 0.5
             },
             "pattern": {
              "fillmode": "overlay",
              "size": 10,
              "solidity": 0.2
             }
            },
            "type": "bar"
           }
          ],
          "barpolar": [
           {
            "marker": {
             "line": {
              "color": "#E5ECF6",
              "width": 0.5
             },
             "pattern": {
              "fillmode": "overlay",
              "size": 10,
              "solidity": 0.2
             }
            },
            "type": "barpolar"
           }
          ],
          "carpet": [
           {
            "aaxis": {
             "endlinecolor": "#2a3f5f",
             "gridcolor": "white",
             "linecolor": "white",
             "minorgridcolor": "white",
             "startlinecolor": "#2a3f5f"
            },
            "baxis": {
             "endlinecolor": "#2a3f5f",
             "gridcolor": "white",
             "linecolor": "white",
             "minorgridcolor": "white",
             "startlinecolor": "#2a3f5f"
            },
            "type": "carpet"
           }
          ],
          "choropleth": [
           {
            "colorbar": {
             "outlinewidth": 0,
             "ticks": ""
            },
            "type": "choropleth"
           }
          ],
          "contour": [
           {
            "colorbar": {
             "outlinewidth": 0,
             "ticks": ""
            },
            "colorscale": [
             [
              0,
              "#0d0887"
             ],
             [
              0.1111111111111111,
              "#46039f"
             ],
             [
              0.2222222222222222,
              "#7201a8"
             ],
             [
              0.3333333333333333,
              "#9c179e"
             ],
             [
              0.4444444444444444,
              "#bd3786"
             ],
             [
              0.5555555555555556,
              "#d8576b"
             ],
             [
              0.6666666666666666,
              "#ed7953"
             ],
             [
              0.7777777777777778,
              "#fb9f3a"
             ],
             [
              0.8888888888888888,
              "#fdca26"
             ],
             [
              1,
              "#f0f921"
             ]
            ],
            "type": "contour"
           }
          ],
          "contourcarpet": [
           {
            "colorbar": {
             "outlinewidth": 0,
             "ticks": ""
            },
            "type": "contourcarpet"
           }
          ],
          "heatmap": [
           {
            "colorbar": {
             "outlinewidth": 0,
             "ticks": ""
            },
            "colorscale": [
             [
              0,
              "#0d0887"
             ],
             [
              0.1111111111111111,
              "#46039f"
             ],
             [
              0.2222222222222222,
              "#7201a8"
             ],
             [
              0.3333333333333333,
              "#9c179e"
             ],
             [
              0.4444444444444444,
              "#bd3786"
             ],
             [
              0.5555555555555556,
              "#d8576b"
             ],
             [
              0.6666666666666666,
              "#ed7953"
             ],
             [
              0.7777777777777778,
              "#fb9f3a"
             ],
             [
              0.8888888888888888,
              "#fdca26"
             ],
             [
              1,
              "#f0f921"
             ]
            ],
            "type": "heatmap"
           }
          ],
          "heatmapgl": [
           {
            "colorbar": {
             "outlinewidth": 0,
             "ticks": ""
            },
            "colorscale": [
             [
              0,
              "#0d0887"
             ],
             [
              0.1111111111111111,
              "#46039f"
             ],
             [
              0.2222222222222222,
              "#7201a8"
             ],
             [
              0.3333333333333333,
              "#9c179e"
             ],
             [
              0.4444444444444444,
              "#bd3786"
             ],
             [
              0.5555555555555556,
              "#d8576b"
             ],
             [
              0.6666666666666666,
              "#ed7953"
             ],
             [
              0.7777777777777778,
              "#fb9f3a"
             ],
             [
              0.8888888888888888,
              "#fdca26"
             ],
             [
              1,
              "#f0f921"
             ]
            ],
            "type": "heatmapgl"
           }
          ],
          "histogram": [
           {
            "marker": {
             "pattern": {
              "fillmode": "overlay",
              "size": 10,
              "solidity": 0.2
             }
            },
            "type": "histogram"
           }
          ],
          "histogram2d": [
           {
            "colorbar": {
             "outlinewidth": 0,
             "ticks": ""
            },
            "colorscale": [
             [
              0,
              "#0d0887"
             ],
             [
              0.1111111111111111,
              "#46039f"
             ],
             [
              0.2222222222222222,
              "#7201a8"
             ],
             [
              0.3333333333333333,
              "#9c179e"
             ],
             [
              0.4444444444444444,
              "#bd3786"
             ],
             [
              0.5555555555555556,
              "#d8576b"
             ],
             [
              0.6666666666666666,
              "#ed7953"
             ],
             [
              0.7777777777777778,
              "#fb9f3a"
             ],
             [
              0.8888888888888888,
              "#fdca26"
             ],
             [
              1,
              "#f0f921"
             ]
            ],
            "type": "histogram2d"
           }
          ],
          "histogram2dcontour": [
           {
            "colorbar": {
             "outlinewidth": 0,
             "ticks": ""
            },
            "colorscale": [
             [
              0,
              "#0d0887"
             ],
             [
              0.1111111111111111,
              "#46039f"
             ],
             [
              0.2222222222222222,
              "#7201a8"
             ],
             [
              0.3333333333333333,
              "#9c179e"
             ],
             [
              0.4444444444444444,
              "#bd3786"
             ],
             [
              0.5555555555555556,
              "#d8576b"
             ],
             [
              0.6666666666666666,
              "#ed7953"
             ],
             [
              0.7777777777777778,
              "#fb9f3a"
             ],
             [
              0.8888888888888888,
              "#fdca26"
             ],
             [
              1,
              "#f0f921"
             ]
            ],
            "type": "histogram2dcontour"
           }
          ],
          "mesh3d": [
           {
            "colorbar": {
             "outlinewidth": 0,
             "ticks": ""
            },
            "type": "mesh3d"
           }
          ],
          "parcoords": [
           {
            "line": {
             "colorbar": {
              "outlinewidth": 0,
              "ticks": ""
             }
            },
            "type": "parcoords"
           }
          ],
          "pie": [
           {
            "automargin": true,
            "type": "pie"
           }
          ],
          "scatter": [
           {
            "fillpattern": {
             "fillmode": "overlay",
             "size": 10,
             "solidity": 0.2
            },
            "type": "scatter"
           }
          ],
          "scatter3d": [
           {
            "line": {
             "colorbar": {
              "outlinewidth": 0,
              "ticks": ""
             }
            },
            "marker": {
             "colorbar": {
              "outlinewidth": 0,
              "ticks": ""
             }
            },
            "type": "scatter3d"
           }
          ],
          "scattercarpet": [
           {
            "marker": {
             "colorbar": {
              "outlinewidth": 0,
              "ticks": ""
             }
            },
            "type": "scattercarpet"
           }
          ],
          "scattergeo": [
           {
            "marker": {
             "colorbar": {
              "outlinewidth": 0,
              "ticks": ""
             }
            },
            "type": "scattergeo"
           }
          ],
          "scattergl": [
           {
            "marker": {
             "colorbar": {
              "outlinewidth": 0,
              "ticks": ""
             }
            },
            "type": "scattergl"
           }
          ],
          "scattermapbox": [
           {
            "marker": {
             "colorbar": {
              "outlinewidth": 0,
              "ticks": ""
             }
            },
            "type": "scattermapbox"
           }
          ],
          "scatterpolar": [
           {
            "marker": {
             "colorbar": {
              "outlinewidth": 0,
              "ticks": ""
             }
            },
            "type": "scatterpolar"
           }
          ],
          "scatterpolargl": [
           {
            "marker": {
             "colorbar": {
              "outlinewidth": 0,
              "ticks": ""
             }
            },
            "type": "scatterpolargl"
           }
          ],
          "scatterternary": [
           {
            "marker": {
             "colorbar": {
              "outlinewidth": 0,
              "ticks": ""
             }
            },
            "type": "scatterternary"
           }
          ],
          "surface": [
           {
            "colorbar": {
             "outlinewidth": 0,
             "ticks": ""
            },
            "colorscale": [
             [
              0,
              "#0d0887"
             ],
             [
              0.1111111111111111,
              "#46039f"
             ],
             [
              0.2222222222222222,
              "#7201a8"
             ],
             [
              0.3333333333333333,
              "#9c179e"
             ],
             [
              0.4444444444444444,
              "#bd3786"
             ],
             [
              0.5555555555555556,
              "#d8576b"
             ],
             [
              0.6666666666666666,
              "#ed7953"
             ],
             [
              0.7777777777777778,
              "#fb9f3a"
             ],
             [
              0.8888888888888888,
              "#fdca26"
             ],
             [
              1,
              "#f0f921"
             ]
            ],
            "type": "surface"
           }
          ],
          "table": [
           {
            "cells": {
             "fill": {
              "color": "#EBF0F8"
             },
             "line": {
              "color": "white"
             }
            },
            "header": {
             "fill": {
              "color": "#C8D4E3"
             },
             "line": {
              "color": "white"
             }
            },
            "type": "table"
           }
          ]
         },
         "layout": {
          "annotationdefaults": {
           "arrowcolor": "#2a3f5f",
           "arrowhead": 0,
           "arrowwidth": 1
          },
          "autotypenumbers": "strict",
          "coloraxis": {
           "colorbar": {
            "outlinewidth": 0,
            "ticks": ""
           }
          },
          "colorscale": {
           "diverging": [
            [
             0,
             "#8e0152"
            ],
            [
             0.1,
             "#c51b7d"
            ],
            [
             0.2,
             "#de77ae"
            ],
            [
             0.3,
             "#f1b6da"
            ],
            [
             0.4,
             "#fde0ef"
            ],
            [
             0.5,
             "#f7f7f7"
            ],
            [
             0.6,
             "#e6f5d0"
            ],
            [
             0.7,
             "#b8e186"
            ],
            [
             0.8,
             "#7fbc41"
            ],
            [
             0.9,
             "#4d9221"
            ],
            [
             1,
             "#276419"
            ]
           ],
           "sequential": [
            [
             0,
             "#0d0887"
            ],
            [
             0.1111111111111111,
             "#46039f"
            ],
            [
             0.2222222222222222,
             "#7201a8"
            ],
            [
             0.3333333333333333,
             "#9c179e"
            ],
            [
             0.4444444444444444,
             "#bd3786"
            ],
            [
             0.5555555555555556,
             "#d8576b"
            ],
            [
             0.6666666666666666,
             "#ed7953"
            ],
            [
             0.7777777777777778,
             "#fb9f3a"
            ],
            [
             0.8888888888888888,
             "#fdca26"
            ],
            [
             1,
             "#f0f921"
            ]
           ],
           "sequentialminus": [
            [
             0,
             "#0d0887"
            ],
            [
             0.1111111111111111,
             "#46039f"
            ],
            [
             0.2222222222222222,
             "#7201a8"
            ],
            [
             0.3333333333333333,
             "#9c179e"
            ],
            [
             0.4444444444444444,
             "#bd3786"
            ],
            [
             0.5555555555555556,
             "#d8576b"
            ],
            [
             0.6666666666666666,
             "#ed7953"
            ],
            [
             0.7777777777777778,
             "#fb9f3a"
            ],
            [
             0.8888888888888888,
             "#fdca26"
            ],
            [
             1,
             "#f0f921"
            ]
           ]
          },
          "colorway": [
           "#636efa",
           "#EF553B",
           "#00cc96",
           "#ab63fa",
           "#FFA15A",
           "#19d3f3",
           "#FF6692",
           "#B6E880",
           "#FF97FF",
           "#FECB52"
          ],
          "font": {
           "color": "#2a3f5f"
          },
          "geo": {
           "bgcolor": "white",
           "lakecolor": "white",
           "landcolor": "#E5ECF6",
           "showlakes": true,
           "showland": true,
           "subunitcolor": "white"
          },
          "hoverlabel": {
           "align": "left"
          },
          "hovermode": "closest",
          "mapbox": {
           "style": "light"
          },
          "paper_bgcolor": "white",
          "plot_bgcolor": "#E5ECF6",
          "polar": {
           "angularaxis": {
            "gridcolor": "white",
            "linecolor": "white",
            "ticks": ""
           },
           "bgcolor": "#E5ECF6",
           "radialaxis": {
            "gridcolor": "white",
            "linecolor": "white",
            "ticks": ""
           }
          },
          "scene": {
           "xaxis": {
            "backgroundcolor": "#E5ECF6",
            "gridcolor": "white",
            "gridwidth": 2,
            "linecolor": "white",
            "showbackground": true,
            "ticks": "",
            "zerolinecolor": "white"
           },
           "yaxis": {
            "backgroundcolor": "#E5ECF6",
            "gridcolor": "white",
            "gridwidth": 2,
            "linecolor": "white",
            "showbackground": true,
            "ticks": "",
            "zerolinecolor": "white"
           },
           "zaxis": {
            "backgroundcolor": "#E5ECF6",
            "gridcolor": "white",
            "gridwidth": 2,
            "linecolor": "white",
            "showbackground": true,
            "ticks": "",
            "zerolinecolor": "white"
           }
          },
          "shapedefaults": {
           "line": {
            "color": "#2a3f5f"
           }
          },
          "ternary": {
           "aaxis": {
            "gridcolor": "white",
            "linecolor": "white",
            "ticks": ""
           },
           "baxis": {
            "gridcolor": "white",
            "linecolor": "white",
            "ticks": ""
           },
           "bgcolor": "#E5ECF6",
           "caxis": {
            "gridcolor": "white",
            "linecolor": "white",
            "ticks": ""
           }
          },
          "title": {
           "x": 0.05
          },
          "xaxis": {
           "automargin": true,
           "gridcolor": "white",
           "linecolor": "white",
           "ticks": "",
           "title": {
            "standoff": 15
           },
           "zerolinecolor": "white",
           "zerolinewidth": 2
          },
          "yaxis": {
           "automargin": true,
           "gridcolor": "white",
           "linecolor": "white",
           "ticks": "",
           "title": {
            "standoff": 15
           },
           "zerolinecolor": "white",
           "zerolinewidth": 2
          }
         }
        },
        "title": {
         "text": "Hyperparameter Importances"
        },
        "xaxis": {
         "title": {
          "text": "Hyperparameter Importance"
         }
        },
        "yaxis": {
         "title": {
          "text": "Hyperparameter"
         }
        }
       }
      },
      "text/html": [
       "<div>                            <div id=\"50d9c166-c9e5-4942-909f-792e7bd3090f\" class=\"plotly-graph-div\" style=\"height:525px; width:100%;\"></div>            <script type=\"text/javascript\">                require([\"plotly\"], function(Plotly) {                    window.PLOTLYENV=window.PLOTLYENV || {};                                    if (document.getElementById(\"50d9c166-c9e5-4942-909f-792e7bd3090f\")) {                    Plotly.newPlot(                        \"50d9c166-c9e5-4942-909f-792e7bd3090f\",                        [{\"cliponaxis\":false,\"hovertemplate\":[\"max_depth (IntDistribution): 0.01012380979629119\\u003cextra\\u003e\\u003c\\u002fextra\\u003e\",\"min_child_samples (IntDistribution): 0.016063943718488898\\u003cextra\\u003e\\u003c\\u002fextra\\u003e\",\"min_child_weight (CategoricalDistribution): 0.06573564886880533\\u003cextra\\u003e\\u003c\\u002fextra\\u003e\",\"learning_rate (CategoricalDistribution): 0.10644087025093757\\u003cextra\\u003e\\u003c\\u002fextra\\u003e\",\"num_leaves (IntDistribution): 0.15432529551607663\\u003cextra\\u003e\\u003c\\u002fextra\\u003e\",\"n_estimators (IntDistribution): 0.6473104318494004\\u003cextra\\u003e\\u003c\\u002fextra\\u003e\"],\"name\":\"Objective Value\",\"orientation\":\"h\",\"text\":[\"0.01\",\"0.02\",\"0.07\",\"0.11\",\"0.15\",\"0.65\"],\"textposition\":\"outside\",\"x\":[0.01012380979629119,0.016063943718488898,0.06573564886880533,0.10644087025093757,0.15432529551607663,0.6473104318494004],\"y\":[\"max_depth\",\"min_child_samples\",\"min_child_weight\",\"learning_rate\",\"num_leaves\",\"n_estimators\"],\"type\":\"bar\"}],                        {\"title\":{\"text\":\"Hyperparameter Importances\"},\"xaxis\":{\"title\":{\"text\":\"Hyperparameter Importance\"}},\"yaxis\":{\"title\":{\"text\":\"Hyperparameter\"}},\"template\":{\"data\":{\"histogram2dcontour\":[{\"type\":\"histogram2dcontour\",\"colorbar\":{\"outlinewidth\":0,\"ticks\":\"\"},\"colorscale\":[[0.0,\"#0d0887\"],[0.1111111111111111,\"#46039f\"],[0.2222222222222222,\"#7201a8\"],[0.3333333333333333,\"#9c179e\"],[0.4444444444444444,\"#bd3786\"],[0.5555555555555556,\"#d8576b\"],[0.6666666666666666,\"#ed7953\"],[0.7777777777777778,\"#fb9f3a\"],[0.8888888888888888,\"#fdca26\"],[1.0,\"#f0f921\"]]}],\"choropleth\":[{\"type\":\"choropleth\",\"colorbar\":{\"outlinewidth\":0,\"ticks\":\"\"}}],\"histogram2d\":[{\"type\":\"histogram2d\",\"colorbar\":{\"outlinewidth\":0,\"ticks\":\"\"},\"colorscale\":[[0.0,\"#0d0887\"],[0.1111111111111111,\"#46039f\"],[0.2222222222222222,\"#7201a8\"],[0.3333333333333333,\"#9c179e\"],[0.4444444444444444,\"#bd3786\"],[0.5555555555555556,\"#d8576b\"],[0.6666666666666666,\"#ed7953\"],[0.7777777777777778,\"#fb9f3a\"],[0.8888888888888888,\"#fdca26\"],[1.0,\"#f0f921\"]]}],\"heatmap\":[{\"type\":\"heatmap\",\"colorbar\":{\"outlinewidth\":0,\"ticks\":\"\"},\"colorscale\":[[0.0,\"#0d0887\"],[0.1111111111111111,\"#46039f\"],[0.2222222222222222,\"#7201a8\"],[0.3333333333333333,\"#9c179e\"],[0.4444444444444444,\"#bd3786\"],[0.5555555555555556,\"#d8576b\"],[0.6666666666666666,\"#ed7953\"],[0.7777777777777778,\"#fb9f3a\"],[0.8888888888888888,\"#fdca26\"],[1.0,\"#f0f921\"]]}],\"heatmapgl\":[{\"type\":\"heatmapgl\",\"colorbar\":{\"outlinewidth\":0,\"ticks\":\"\"},\"colorscale\":[[0.0,\"#0d0887\"],[0.1111111111111111,\"#46039f\"],[0.2222222222222222,\"#7201a8\"],[0.3333333333333333,\"#9c179e\"],[0.4444444444444444,\"#bd3786\"],[0.5555555555555556,\"#d8576b\"],[0.6666666666666666,\"#ed7953\"],[0.7777777777777778,\"#fb9f3a\"],[0.8888888888888888,\"#fdca26\"],[1.0,\"#f0f921\"]]}],\"contourcarpet\":[{\"type\":\"contourcarpet\",\"colorbar\":{\"outlinewidth\":0,\"ticks\":\"\"}}],\"contour\":[{\"type\":\"contour\",\"colorbar\":{\"outlinewidth\":0,\"ticks\":\"\"},\"colorscale\":[[0.0,\"#0d0887\"],[0.1111111111111111,\"#46039f\"],[0.2222222222222222,\"#7201a8\"],[0.3333333333333333,\"#9c179e\"],[0.4444444444444444,\"#bd3786\"],[0.5555555555555556,\"#d8576b\"],[0.6666666666666666,\"#ed7953\"],[0.7777777777777778,\"#fb9f3a\"],[0.8888888888888888,\"#fdca26\"],[1.0,\"#f0f921\"]]}],\"surface\":[{\"type\":\"surface\",\"colorbar\":{\"outlinewidth\":0,\"ticks\":\"\"},\"colorscale\":[[0.0,\"#0d0887\"],[0.1111111111111111,\"#46039f\"],[0.2222222222222222,\"#7201a8\"],[0.3333333333333333,\"#9c179e\"],[0.4444444444444444,\"#bd3786\"],[0.5555555555555556,\"#d8576b\"],[0.6666666666666666,\"#ed7953\"],[0.7777777777777778,\"#fb9f3a\"],[0.8888888888888888,\"#fdca26\"],[1.0,\"#f0f921\"]]}],\"mesh3d\":[{\"type\":\"mesh3d\",\"colorbar\":{\"outlinewidth\":0,\"ticks\":\"\"}}],\"scatter\":[{\"fillpattern\":{\"fillmode\":\"overlay\",\"size\":10,\"solidity\":0.2},\"type\":\"scatter\"}],\"parcoords\":[{\"type\":\"parcoords\",\"line\":{\"colorbar\":{\"outlinewidth\":0,\"ticks\":\"\"}}}],\"scatterpolargl\":[{\"type\":\"scatterpolargl\",\"marker\":{\"colorbar\":{\"outlinewidth\":0,\"ticks\":\"\"}}}],\"bar\":[{\"error_x\":{\"color\":\"#2a3f5f\"},\"error_y\":{\"color\":\"#2a3f5f\"},\"marker\":{\"line\":{\"color\":\"#E5ECF6\",\"width\":0.5},\"pattern\":{\"fillmode\":\"overlay\",\"size\":10,\"solidity\":0.2}},\"type\":\"bar\"}],\"scattergeo\":[{\"type\":\"scattergeo\",\"marker\":{\"colorbar\":{\"outlinewidth\":0,\"ticks\":\"\"}}}],\"scatterpolar\":[{\"type\":\"scatterpolar\",\"marker\":{\"colorbar\":{\"outlinewidth\":0,\"ticks\":\"\"}}}],\"histogram\":[{\"marker\":{\"pattern\":{\"fillmode\":\"overlay\",\"size\":10,\"solidity\":0.2}},\"type\":\"histogram\"}],\"scattergl\":[{\"type\":\"scattergl\",\"marker\":{\"colorbar\":{\"outlinewidth\":0,\"ticks\":\"\"}}}],\"scatter3d\":[{\"type\":\"scatter3d\",\"line\":{\"colorbar\":{\"outlinewidth\":0,\"ticks\":\"\"}},\"marker\":{\"colorbar\":{\"outlinewidth\":0,\"ticks\":\"\"}}}],\"scattermapbox\":[{\"type\":\"scattermapbox\",\"marker\":{\"colorbar\":{\"outlinewidth\":0,\"ticks\":\"\"}}}],\"scatterternary\":[{\"type\":\"scatterternary\",\"marker\":{\"colorbar\":{\"outlinewidth\":0,\"ticks\":\"\"}}}],\"scattercarpet\":[{\"type\":\"scattercarpet\",\"marker\":{\"colorbar\":{\"outlinewidth\":0,\"ticks\":\"\"}}}],\"carpet\":[{\"aaxis\":{\"endlinecolor\":\"#2a3f5f\",\"gridcolor\":\"white\",\"linecolor\":\"white\",\"minorgridcolor\":\"white\",\"startlinecolor\":\"#2a3f5f\"},\"baxis\":{\"endlinecolor\":\"#2a3f5f\",\"gridcolor\":\"white\",\"linecolor\":\"white\",\"minorgridcolor\":\"white\",\"startlinecolor\":\"#2a3f5f\"},\"type\":\"carpet\"}],\"table\":[{\"cells\":{\"fill\":{\"color\":\"#EBF0F8\"},\"line\":{\"color\":\"white\"}},\"header\":{\"fill\":{\"color\":\"#C8D4E3\"},\"line\":{\"color\":\"white\"}},\"type\":\"table\"}],\"barpolar\":[{\"marker\":{\"line\":{\"color\":\"#E5ECF6\",\"width\":0.5},\"pattern\":{\"fillmode\":\"overlay\",\"size\":10,\"solidity\":0.2}},\"type\":\"barpolar\"}],\"pie\":[{\"automargin\":true,\"type\":\"pie\"}]},\"layout\":{\"autotypenumbers\":\"strict\",\"colorway\":[\"#636efa\",\"#EF553B\",\"#00cc96\",\"#ab63fa\",\"#FFA15A\",\"#19d3f3\",\"#FF6692\",\"#B6E880\",\"#FF97FF\",\"#FECB52\"],\"font\":{\"color\":\"#2a3f5f\"},\"hovermode\":\"closest\",\"hoverlabel\":{\"align\":\"left\"},\"paper_bgcolor\":\"white\",\"plot_bgcolor\":\"#E5ECF6\",\"polar\":{\"bgcolor\":\"#E5ECF6\",\"angularaxis\":{\"gridcolor\":\"white\",\"linecolor\":\"white\",\"ticks\":\"\"},\"radialaxis\":{\"gridcolor\":\"white\",\"linecolor\":\"white\",\"ticks\":\"\"}},\"ternary\":{\"bgcolor\":\"#E5ECF6\",\"aaxis\":{\"gridcolor\":\"white\",\"linecolor\":\"white\",\"ticks\":\"\"},\"baxis\":{\"gridcolor\":\"white\",\"linecolor\":\"white\",\"ticks\":\"\"},\"caxis\":{\"gridcolor\":\"white\",\"linecolor\":\"white\",\"ticks\":\"\"}},\"coloraxis\":{\"colorbar\":{\"outlinewidth\":0,\"ticks\":\"\"}},\"colorscale\":{\"sequential\":[[0.0,\"#0d0887\"],[0.1111111111111111,\"#46039f\"],[0.2222222222222222,\"#7201a8\"],[0.3333333333333333,\"#9c179e\"],[0.4444444444444444,\"#bd3786\"],[0.5555555555555556,\"#d8576b\"],[0.6666666666666666,\"#ed7953\"],[0.7777777777777778,\"#fb9f3a\"],[0.8888888888888888,\"#fdca26\"],[1.0,\"#f0f921\"]],\"sequentialminus\":[[0.0,\"#0d0887\"],[0.1111111111111111,\"#46039f\"],[0.2222222222222222,\"#7201a8\"],[0.3333333333333333,\"#9c179e\"],[0.4444444444444444,\"#bd3786\"],[0.5555555555555556,\"#d8576b\"],[0.6666666666666666,\"#ed7953\"],[0.7777777777777778,\"#fb9f3a\"],[0.8888888888888888,\"#fdca26\"],[1.0,\"#f0f921\"]],\"diverging\":[[0,\"#8e0152\"],[0.1,\"#c51b7d\"],[0.2,\"#de77ae\"],[0.3,\"#f1b6da\"],[0.4,\"#fde0ef\"],[0.5,\"#f7f7f7\"],[0.6,\"#e6f5d0\"],[0.7,\"#b8e186\"],[0.8,\"#7fbc41\"],[0.9,\"#4d9221\"],[1,\"#276419\"]]},\"xaxis\":{\"gridcolor\":\"white\",\"linecolor\":\"white\",\"ticks\":\"\",\"title\":{\"standoff\":15},\"zerolinecolor\":\"white\",\"automargin\":true,\"zerolinewidth\":2},\"yaxis\":{\"gridcolor\":\"white\",\"linecolor\":\"white\",\"ticks\":\"\",\"title\":{\"standoff\":15},\"zerolinecolor\":\"white\",\"automargin\":true,\"zerolinewidth\":2},\"scene\":{\"xaxis\":{\"backgroundcolor\":\"#E5ECF6\",\"gridcolor\":\"white\",\"linecolor\":\"white\",\"showbackground\":true,\"ticks\":\"\",\"zerolinecolor\":\"white\",\"gridwidth\":2},\"yaxis\":{\"backgroundcolor\":\"#E5ECF6\",\"gridcolor\":\"white\",\"linecolor\":\"white\",\"showbackground\":true,\"ticks\":\"\",\"zerolinecolor\":\"white\",\"gridwidth\":2},\"zaxis\":{\"backgroundcolor\":\"#E5ECF6\",\"gridcolor\":\"white\",\"linecolor\":\"white\",\"showbackground\":true,\"ticks\":\"\",\"zerolinecolor\":\"white\",\"gridwidth\":2}},\"shapedefaults\":{\"line\":{\"color\":\"#2a3f5f\"}},\"annotationdefaults\":{\"arrowcolor\":\"#2a3f5f\",\"arrowhead\":0,\"arrowwidth\":1},\"geo\":{\"bgcolor\":\"white\",\"landcolor\":\"#E5ECF6\",\"subunitcolor\":\"white\",\"showland\":true,\"showlakes\":true,\"lakecolor\":\"white\"},\"title\":{\"x\":0.05},\"mapbox\":{\"style\":\"light\"}}}},                        {\"responsive\": true}                    ).then(function(){\n",
       "                            \n",
       "var gd = document.getElementById('50d9c166-c9e5-4942-909f-792e7bd3090f');\n",
       "var x = new MutationObserver(function (mutations, observer) {{\n",
       "        var display = window.getComputedStyle(gd).display;\n",
       "        if (!display || display === 'none') {{\n",
       "            console.log([gd, 'removed!']);\n",
       "            Plotly.purge(gd);\n",
       "            observer.disconnect();\n",
       "        }}\n",
       "}});\n",
       "\n",
       "// Listen for the removal of the full notebook cells\n",
       "var notebookContainer = gd.closest('#notebook-container');\n",
       "if (notebookContainer) {{\n",
       "    x.observe(notebookContainer, {childList: true});\n",
       "}}\n",
       "\n",
       "// Listen for the clearing of the current output cell\n",
       "var outputEl = gd.closest('.output');\n",
       "if (outputEl) {{\n",
       "    x.observe(outputEl, {childList: true});\n",
       "}}\n",
       "\n",
       "                        })                };                });            </script>        </div>"
      ]
     },
     "metadata": {},
     "output_type": "display_data"
    },
    {
     "data": {
      "application/vnd.plotly.v1+json": {
       "config": {
        "plotlyServerURL": "https://plot.ly"
       },
       "data": [
        {
         "mode": "markers",
         "name": "Objective Value",
         "type": "scatter",
         "x": [
          0,
          1,
          2,
          3,
          4,
          5,
          6,
          7,
          8,
          9,
          10,
          11,
          12,
          13,
          14,
          15,
          16,
          17,
          18,
          19,
          20,
          21,
          22,
          23,
          24,
          25,
          26,
          27,
          28,
          29,
          30,
          31,
          32,
          33,
          34,
          35,
          36,
          37,
          38,
          39,
          40,
          41,
          42,
          43,
          44,
          45,
          46,
          47,
          48,
          49
         ],
         "y": [
          0.5129331617846296,
          0.5323755183451884,
          0.523706557899479,
          0.5110836432361204,
          0.534051042136805,
          0.5313317090040571,
          0.5129776665747903,
          0.5301142717935923,
          0.5100713960409211,
          0.5255633025814697,
          0.5314423997566378,
          0.5217104577375299,
          0.5261356626051479,
          0.5257338681368859,
          0.5309074704568066,
          0.5274439986110945,
          0.5335860911913766,
          0.5323680030956933,
          0.5365397096756812,
          0.5337675034736008,
          0.5227622595887682,
          0.5334612261735362,
          0.5378282452523805,
          0.533757922282658,
          0.5327370393321779,
          0.5217727694386023,
          0.5316652436485063,
          0.5292720563750444,
          0.5310201177720414,
          0.5334020717128971,
          0.5346991078838896,
          0.5328381701440459,
          0.5329451220427079,
          0.5321509533877341,
          0.5319387653997334,
          0.5306669769632654,
          0.532829496290657,
          0.5321391868963394,
          0.5252484805976924,
          0.5334953972562514,
          0.5262632250006088,
          0.5336922596386182,
          0.531129868980619,
          0.5333989170800053,
          0.5331148517587042,
          0.5233751819666914,
          0.5273603577540856,
          0.5366138957977619,
          0.5260018639048787,
          0.5325484280579864
         ]
        },
        {
         "mode": "lines",
         "name": "Best Value",
         "type": "scatter",
         "x": [
          0,
          1,
          2,
          3,
          4,
          5,
          6,
          7,
          8,
          9,
          10,
          11,
          12,
          13,
          14,
          15,
          16,
          17,
          18,
          19,
          20,
          21,
          22,
          23,
          24,
          25,
          26,
          27,
          28,
          29,
          30,
          31,
          32,
          33,
          34,
          35,
          36,
          37,
          38,
          39,
          40,
          41,
          42,
          43,
          44,
          45,
          46,
          47,
          48,
          49
         ],
         "y": [
          0.5129331617846296,
          0.5323755183451884,
          0.5323755183451884,
          0.5323755183451884,
          0.534051042136805,
          0.534051042136805,
          0.534051042136805,
          0.534051042136805,
          0.534051042136805,
          0.534051042136805,
          0.534051042136805,
          0.534051042136805,
          0.534051042136805,
          0.534051042136805,
          0.534051042136805,
          0.534051042136805,
          0.534051042136805,
          0.534051042136805,
          0.5365397096756812,
          0.5365397096756812,
          0.5365397096756812,
          0.5365397096756812,
          0.5378282452523805,
          0.5378282452523805,
          0.5378282452523805,
          0.5378282452523805,
          0.5378282452523805,
          0.5378282452523805,
          0.5378282452523805,
          0.5378282452523805,
          0.5378282452523805,
          0.5378282452523805,
          0.5378282452523805,
          0.5378282452523805,
          0.5378282452523805,
          0.5378282452523805,
          0.5378282452523805,
          0.5378282452523805,
          0.5378282452523805,
          0.5378282452523805,
          0.5378282452523805,
          0.5378282452523805,
          0.5378282452523805,
          0.5378282452523805,
          0.5378282452523805,
          0.5378282452523805,
          0.5378282452523805,
          0.5378282452523805,
          0.5378282452523805,
          0.5378282452523805
         ]
        },
        {
         "marker": {
          "color": "#cccccc"
         },
         "mode": "markers",
         "name": "Infeasible Trial",
         "showlegend": false,
         "type": "scatter",
         "x": [],
         "y": []
        }
       ],
       "layout": {
        "template": {
         "data": {
          "bar": [
           {
            "error_x": {
             "color": "#2a3f5f"
            },
            "error_y": {
             "color": "#2a3f5f"
            },
            "marker": {
             "line": {
              "color": "#E5ECF6",
              "width": 0.5
             },
             "pattern": {
              "fillmode": "overlay",
              "size": 10,
              "solidity": 0.2
             }
            },
            "type": "bar"
           }
          ],
          "barpolar": [
           {
            "marker": {
             "line": {
              "color": "#E5ECF6",
              "width": 0.5
             },
             "pattern": {
              "fillmode": "overlay",
              "size": 10,
              "solidity": 0.2
             }
            },
            "type": "barpolar"
           }
          ],
          "carpet": [
           {
            "aaxis": {
             "endlinecolor": "#2a3f5f",
             "gridcolor": "white",
             "linecolor": "white",
             "minorgridcolor": "white",
             "startlinecolor": "#2a3f5f"
            },
            "baxis": {
             "endlinecolor": "#2a3f5f",
             "gridcolor": "white",
             "linecolor": "white",
             "minorgridcolor": "white",
             "startlinecolor": "#2a3f5f"
            },
            "type": "carpet"
           }
          ],
          "choropleth": [
           {
            "colorbar": {
             "outlinewidth": 0,
             "ticks": ""
            },
            "type": "choropleth"
           }
          ],
          "contour": [
           {
            "colorbar": {
             "outlinewidth": 0,
             "ticks": ""
            },
            "colorscale": [
             [
              0,
              "#0d0887"
             ],
             [
              0.1111111111111111,
              "#46039f"
             ],
             [
              0.2222222222222222,
              "#7201a8"
             ],
             [
              0.3333333333333333,
              "#9c179e"
             ],
             [
              0.4444444444444444,
              "#bd3786"
             ],
             [
              0.5555555555555556,
              "#d8576b"
             ],
             [
              0.6666666666666666,
              "#ed7953"
             ],
             [
              0.7777777777777778,
              "#fb9f3a"
             ],
             [
              0.8888888888888888,
              "#fdca26"
             ],
             [
              1,
              "#f0f921"
             ]
            ],
            "type": "contour"
           }
          ],
          "contourcarpet": [
           {
            "colorbar": {
             "outlinewidth": 0,
             "ticks": ""
            },
            "type": "contourcarpet"
           }
          ],
          "heatmap": [
           {
            "colorbar": {
             "outlinewidth": 0,
             "ticks": ""
            },
            "colorscale": [
             [
              0,
              "#0d0887"
             ],
             [
              0.1111111111111111,
              "#46039f"
             ],
             [
              0.2222222222222222,
              "#7201a8"
             ],
             [
              0.3333333333333333,
              "#9c179e"
             ],
             [
              0.4444444444444444,
              "#bd3786"
             ],
             [
              0.5555555555555556,
              "#d8576b"
             ],
             [
              0.6666666666666666,
              "#ed7953"
             ],
             [
              0.7777777777777778,
              "#fb9f3a"
             ],
             [
              0.8888888888888888,
              "#fdca26"
             ],
             [
              1,
              "#f0f921"
             ]
            ],
            "type": "heatmap"
           }
          ],
          "heatmapgl": [
           {
            "colorbar": {
             "outlinewidth": 0,
             "ticks": ""
            },
            "colorscale": [
             [
              0,
              "#0d0887"
             ],
             [
              0.1111111111111111,
              "#46039f"
             ],
             [
              0.2222222222222222,
              "#7201a8"
             ],
             [
              0.3333333333333333,
              "#9c179e"
             ],
             [
              0.4444444444444444,
              "#bd3786"
             ],
             [
              0.5555555555555556,
              "#d8576b"
             ],
             [
              0.6666666666666666,
              "#ed7953"
             ],
             [
              0.7777777777777778,
              "#fb9f3a"
             ],
             [
              0.8888888888888888,
              "#fdca26"
             ],
             [
              1,
              "#f0f921"
             ]
            ],
            "type": "heatmapgl"
           }
          ],
          "histogram": [
           {
            "marker": {
             "pattern": {
              "fillmode": "overlay",
              "size": 10,
              "solidity": 0.2
             }
            },
            "type": "histogram"
           }
          ],
          "histogram2d": [
           {
            "colorbar": {
             "outlinewidth": 0,
             "ticks": ""
            },
            "colorscale": [
             [
              0,
              "#0d0887"
             ],
             [
              0.1111111111111111,
              "#46039f"
             ],
             [
              0.2222222222222222,
              "#7201a8"
             ],
             [
              0.3333333333333333,
              "#9c179e"
             ],
             [
              0.4444444444444444,
              "#bd3786"
             ],
             [
              0.5555555555555556,
              "#d8576b"
             ],
             [
              0.6666666666666666,
              "#ed7953"
             ],
             [
              0.7777777777777778,
              "#fb9f3a"
             ],
             [
              0.8888888888888888,
              "#fdca26"
             ],
             [
              1,
              "#f0f921"
             ]
            ],
            "type": "histogram2d"
           }
          ],
          "histogram2dcontour": [
           {
            "colorbar": {
             "outlinewidth": 0,
             "ticks": ""
            },
            "colorscale": [
             [
              0,
              "#0d0887"
             ],
             [
              0.1111111111111111,
              "#46039f"
             ],
             [
              0.2222222222222222,
              "#7201a8"
             ],
             [
              0.3333333333333333,
              "#9c179e"
             ],
             [
              0.4444444444444444,
              "#bd3786"
             ],
             [
              0.5555555555555556,
              "#d8576b"
             ],
             [
              0.6666666666666666,
              "#ed7953"
             ],
             [
              0.7777777777777778,
              "#fb9f3a"
             ],
             [
              0.8888888888888888,
              "#fdca26"
             ],
             [
              1,
              "#f0f921"
             ]
            ],
            "type": "histogram2dcontour"
           }
          ],
          "mesh3d": [
           {
            "colorbar": {
             "outlinewidth": 0,
             "ticks": ""
            },
            "type": "mesh3d"
           }
          ],
          "parcoords": [
           {
            "line": {
             "colorbar": {
              "outlinewidth": 0,
              "ticks": ""
             }
            },
            "type": "parcoords"
           }
          ],
          "pie": [
           {
            "automargin": true,
            "type": "pie"
           }
          ],
          "scatter": [
           {
            "fillpattern": {
             "fillmode": "overlay",
             "size": 10,
             "solidity": 0.2
            },
            "type": "scatter"
           }
          ],
          "scatter3d": [
           {
            "line": {
             "colorbar": {
              "outlinewidth": 0,
              "ticks": ""
             }
            },
            "marker": {
             "colorbar": {
              "outlinewidth": 0,
              "ticks": ""
             }
            },
            "type": "scatter3d"
           }
          ],
          "scattercarpet": [
           {
            "marker": {
             "colorbar": {
              "outlinewidth": 0,
              "ticks": ""
             }
            },
            "type": "scattercarpet"
           }
          ],
          "scattergeo": [
           {
            "marker": {
             "colorbar": {
              "outlinewidth": 0,
              "ticks": ""
             }
            },
            "type": "scattergeo"
           }
          ],
          "scattergl": [
           {
            "marker": {
             "colorbar": {
              "outlinewidth": 0,
              "ticks": ""
             }
            },
            "type": "scattergl"
           }
          ],
          "scattermapbox": [
           {
            "marker": {
             "colorbar": {
              "outlinewidth": 0,
              "ticks": ""
             }
            },
            "type": "scattermapbox"
           }
          ],
          "scatterpolar": [
           {
            "marker": {
             "colorbar": {
              "outlinewidth": 0,
              "ticks": ""
             }
            },
            "type": "scatterpolar"
           }
          ],
          "scatterpolargl": [
           {
            "marker": {
             "colorbar": {
              "outlinewidth": 0,
              "ticks": ""
             }
            },
            "type": "scatterpolargl"
           }
          ],
          "scatterternary": [
           {
            "marker": {
             "colorbar": {
              "outlinewidth": 0,
              "ticks": ""
             }
            },
            "type": "scatterternary"
           }
          ],
          "surface": [
           {
            "colorbar": {
             "outlinewidth": 0,
             "ticks": ""
            },
            "colorscale": [
             [
              0,
              "#0d0887"
             ],
             [
              0.1111111111111111,
              "#46039f"
             ],
             [
              0.2222222222222222,
              "#7201a8"
             ],
             [
              0.3333333333333333,
              "#9c179e"
             ],
             [
              0.4444444444444444,
              "#bd3786"
             ],
             [
              0.5555555555555556,
              "#d8576b"
             ],
             [
              0.6666666666666666,
              "#ed7953"
             ],
             [
              0.7777777777777778,
              "#fb9f3a"
             ],
             [
              0.8888888888888888,
              "#fdca26"
             ],
             [
              1,
              "#f0f921"
             ]
            ],
            "type": "surface"
           }
          ],
          "table": [
           {
            "cells": {
             "fill": {
              "color": "#EBF0F8"
             },
             "line": {
              "color": "white"
             }
            },
            "header": {
             "fill": {
              "color": "#C8D4E3"
             },
             "line": {
              "color": "white"
             }
            },
            "type": "table"
           }
          ]
         },
         "layout": {
          "annotationdefaults": {
           "arrowcolor": "#2a3f5f",
           "arrowhead": 0,
           "arrowwidth": 1
          },
          "autotypenumbers": "strict",
          "coloraxis": {
           "colorbar": {
            "outlinewidth": 0,
            "ticks": ""
           }
          },
          "colorscale": {
           "diverging": [
            [
             0,
             "#8e0152"
            ],
            [
             0.1,
             "#c51b7d"
            ],
            [
             0.2,
             "#de77ae"
            ],
            [
             0.3,
             "#f1b6da"
            ],
            [
             0.4,
             "#fde0ef"
            ],
            [
             0.5,
             "#f7f7f7"
            ],
            [
             0.6,
             "#e6f5d0"
            ],
            [
             0.7,
             "#b8e186"
            ],
            [
             0.8,
             "#7fbc41"
            ],
            [
             0.9,
             "#4d9221"
            ],
            [
             1,
             "#276419"
            ]
           ],
           "sequential": [
            [
             0,
             "#0d0887"
            ],
            [
             0.1111111111111111,
             "#46039f"
            ],
            [
             0.2222222222222222,
             "#7201a8"
            ],
            [
             0.3333333333333333,
             "#9c179e"
            ],
            [
             0.4444444444444444,
             "#bd3786"
            ],
            [
             0.5555555555555556,
             "#d8576b"
            ],
            [
             0.6666666666666666,
             "#ed7953"
            ],
            [
             0.7777777777777778,
             "#fb9f3a"
            ],
            [
             0.8888888888888888,
             "#fdca26"
            ],
            [
             1,
             "#f0f921"
            ]
           ],
           "sequentialminus": [
            [
             0,
             "#0d0887"
            ],
            [
             0.1111111111111111,
             "#46039f"
            ],
            [
             0.2222222222222222,
             "#7201a8"
            ],
            [
             0.3333333333333333,
             "#9c179e"
            ],
            [
             0.4444444444444444,
             "#bd3786"
            ],
            [
             0.5555555555555556,
             "#d8576b"
            ],
            [
             0.6666666666666666,
             "#ed7953"
            ],
            [
             0.7777777777777778,
             "#fb9f3a"
            ],
            [
             0.8888888888888888,
             "#fdca26"
            ],
            [
             1,
             "#f0f921"
            ]
           ]
          },
          "colorway": [
           "#636efa",
           "#EF553B",
           "#00cc96",
           "#ab63fa",
           "#FFA15A",
           "#19d3f3",
           "#FF6692",
           "#B6E880",
           "#FF97FF",
           "#FECB52"
          ],
          "font": {
           "color": "#2a3f5f"
          },
          "geo": {
           "bgcolor": "white",
           "lakecolor": "white",
           "landcolor": "#E5ECF6",
           "showlakes": true,
           "showland": true,
           "subunitcolor": "white"
          },
          "hoverlabel": {
           "align": "left"
          },
          "hovermode": "closest",
          "mapbox": {
           "style": "light"
          },
          "paper_bgcolor": "white",
          "plot_bgcolor": "#E5ECF6",
          "polar": {
           "angularaxis": {
            "gridcolor": "white",
            "linecolor": "white",
            "ticks": ""
           },
           "bgcolor": "#E5ECF6",
           "radialaxis": {
            "gridcolor": "white",
            "linecolor": "white",
            "ticks": ""
           }
          },
          "scene": {
           "xaxis": {
            "backgroundcolor": "#E5ECF6",
            "gridcolor": "white",
            "gridwidth": 2,
            "linecolor": "white",
            "showbackground": true,
            "ticks": "",
            "zerolinecolor": "white"
           },
           "yaxis": {
            "backgroundcolor": "#E5ECF6",
            "gridcolor": "white",
            "gridwidth": 2,
            "linecolor": "white",
            "showbackground": true,
            "ticks": "",
            "zerolinecolor": "white"
           },
           "zaxis": {
            "backgroundcolor": "#E5ECF6",
            "gridcolor": "white",
            "gridwidth": 2,
            "linecolor": "white",
            "showbackground": true,
            "ticks": "",
            "zerolinecolor": "white"
           }
          },
          "shapedefaults": {
           "line": {
            "color": "#2a3f5f"
           }
          },
          "ternary": {
           "aaxis": {
            "gridcolor": "white",
            "linecolor": "white",
            "ticks": ""
           },
           "baxis": {
            "gridcolor": "white",
            "linecolor": "white",
            "ticks": ""
           },
           "bgcolor": "#E5ECF6",
           "caxis": {
            "gridcolor": "white",
            "linecolor": "white",
            "ticks": ""
           }
          },
          "title": {
           "x": 0.05
          },
          "xaxis": {
           "automargin": true,
           "gridcolor": "white",
           "linecolor": "white",
           "ticks": "",
           "title": {
            "standoff": 15
           },
           "zerolinecolor": "white",
           "zerolinewidth": 2
          },
          "yaxis": {
           "automargin": true,
           "gridcolor": "white",
           "linecolor": "white",
           "ticks": "",
           "title": {
            "standoff": 15
           },
           "zerolinecolor": "white",
           "zerolinewidth": 2
          }
         }
        },
        "title": {
         "text": "Optimization History Plot"
        },
        "xaxis": {
         "title": {
          "text": "Trial"
         }
        },
        "yaxis": {
         "title": {
          "text": "Objective Value"
         }
        }
       }
      },
      "text/html": [
       "<div>                            <div id=\"19e5e508-c0a6-4db8-8af0-adc4decfe37b\" class=\"plotly-graph-div\" style=\"height:525px; width:100%;\"></div>            <script type=\"text/javascript\">                require([\"plotly\"], function(Plotly) {                    window.PLOTLYENV=window.PLOTLYENV || {};                                    if (document.getElementById(\"19e5e508-c0a6-4db8-8af0-adc4decfe37b\")) {                    Plotly.newPlot(                        \"19e5e508-c0a6-4db8-8af0-adc4decfe37b\",                        [{\"mode\":\"markers\",\"name\":\"Objective Value\",\"x\":[0,1,2,3,4,5,6,7,8,9,10,11,12,13,14,15,16,17,18,19,20,21,22,23,24,25,26,27,28,29,30,31,32,33,34,35,36,37,38,39,40,41,42,43,44,45,46,47,48,49],\"y\":[0.5129331617846296,0.5323755183451884,0.523706557899479,0.5110836432361204,0.534051042136805,0.5313317090040571,0.5129776665747903,0.5301142717935923,0.5100713960409211,0.5255633025814697,0.5314423997566378,0.5217104577375299,0.5261356626051479,0.5257338681368859,0.5309074704568066,0.5274439986110945,0.5335860911913766,0.5323680030956933,0.5365397096756812,0.5337675034736008,0.5227622595887682,0.5334612261735362,0.5378282452523805,0.533757922282658,0.5327370393321779,0.5217727694386023,0.5316652436485063,0.5292720563750444,0.5310201177720414,0.5334020717128971,0.5346991078838896,0.5328381701440459,0.5329451220427079,0.5321509533877341,0.5319387653997334,0.5306669769632654,0.532829496290657,0.5321391868963394,0.5252484805976924,0.5334953972562514,0.5262632250006088,0.5336922596386182,0.531129868980619,0.5333989170800053,0.5331148517587042,0.5233751819666914,0.5273603577540856,0.5366138957977619,0.5260018639048787,0.5325484280579864],\"type\":\"scatter\"},{\"mode\":\"lines\",\"name\":\"Best Value\",\"x\":[0,1,2,3,4,5,6,7,8,9,10,11,12,13,14,15,16,17,18,19,20,21,22,23,24,25,26,27,28,29,30,31,32,33,34,35,36,37,38,39,40,41,42,43,44,45,46,47,48,49],\"y\":[0.5129331617846296,0.5323755183451884,0.5323755183451884,0.5323755183451884,0.534051042136805,0.534051042136805,0.534051042136805,0.534051042136805,0.534051042136805,0.534051042136805,0.534051042136805,0.534051042136805,0.534051042136805,0.534051042136805,0.534051042136805,0.534051042136805,0.534051042136805,0.534051042136805,0.5365397096756812,0.5365397096756812,0.5365397096756812,0.5365397096756812,0.5378282452523805,0.5378282452523805,0.5378282452523805,0.5378282452523805,0.5378282452523805,0.5378282452523805,0.5378282452523805,0.5378282452523805,0.5378282452523805,0.5378282452523805,0.5378282452523805,0.5378282452523805,0.5378282452523805,0.5378282452523805,0.5378282452523805,0.5378282452523805,0.5378282452523805,0.5378282452523805,0.5378282452523805,0.5378282452523805,0.5378282452523805,0.5378282452523805,0.5378282452523805,0.5378282452523805,0.5378282452523805,0.5378282452523805,0.5378282452523805,0.5378282452523805],\"type\":\"scatter\"},{\"marker\":{\"color\":\"#cccccc\"},\"mode\":\"markers\",\"name\":\"Infeasible Trial\",\"showlegend\":false,\"x\":[],\"y\":[],\"type\":\"scatter\"}],                        {\"title\":{\"text\":\"Optimization History Plot\"},\"xaxis\":{\"title\":{\"text\":\"Trial\"}},\"yaxis\":{\"title\":{\"text\":\"Objective Value\"}},\"template\":{\"data\":{\"histogram2dcontour\":[{\"type\":\"histogram2dcontour\",\"colorbar\":{\"outlinewidth\":0,\"ticks\":\"\"},\"colorscale\":[[0.0,\"#0d0887\"],[0.1111111111111111,\"#46039f\"],[0.2222222222222222,\"#7201a8\"],[0.3333333333333333,\"#9c179e\"],[0.4444444444444444,\"#bd3786\"],[0.5555555555555556,\"#d8576b\"],[0.6666666666666666,\"#ed7953\"],[0.7777777777777778,\"#fb9f3a\"],[0.8888888888888888,\"#fdca26\"],[1.0,\"#f0f921\"]]}],\"choropleth\":[{\"type\":\"choropleth\",\"colorbar\":{\"outlinewidth\":0,\"ticks\":\"\"}}],\"histogram2d\":[{\"type\":\"histogram2d\",\"colorbar\":{\"outlinewidth\":0,\"ticks\":\"\"},\"colorscale\":[[0.0,\"#0d0887\"],[0.1111111111111111,\"#46039f\"],[0.2222222222222222,\"#7201a8\"],[0.3333333333333333,\"#9c179e\"],[0.4444444444444444,\"#bd3786\"],[0.5555555555555556,\"#d8576b\"],[0.6666666666666666,\"#ed7953\"],[0.7777777777777778,\"#fb9f3a\"],[0.8888888888888888,\"#fdca26\"],[1.0,\"#f0f921\"]]}],\"heatmap\":[{\"type\":\"heatmap\",\"colorbar\":{\"outlinewidth\":0,\"ticks\":\"\"},\"colorscale\":[[0.0,\"#0d0887\"],[0.1111111111111111,\"#46039f\"],[0.2222222222222222,\"#7201a8\"],[0.3333333333333333,\"#9c179e\"],[0.4444444444444444,\"#bd3786\"],[0.5555555555555556,\"#d8576b\"],[0.6666666666666666,\"#ed7953\"],[0.7777777777777778,\"#fb9f3a\"],[0.8888888888888888,\"#fdca26\"],[1.0,\"#f0f921\"]]}],\"heatmapgl\":[{\"type\":\"heatmapgl\",\"colorbar\":{\"outlinewidth\":0,\"ticks\":\"\"},\"colorscale\":[[0.0,\"#0d0887\"],[0.1111111111111111,\"#46039f\"],[0.2222222222222222,\"#7201a8\"],[0.3333333333333333,\"#9c179e\"],[0.4444444444444444,\"#bd3786\"],[0.5555555555555556,\"#d8576b\"],[0.6666666666666666,\"#ed7953\"],[0.7777777777777778,\"#fb9f3a\"],[0.8888888888888888,\"#fdca26\"],[1.0,\"#f0f921\"]]}],\"contourcarpet\":[{\"type\":\"contourcarpet\",\"colorbar\":{\"outlinewidth\":0,\"ticks\":\"\"}}],\"contour\":[{\"type\":\"contour\",\"colorbar\":{\"outlinewidth\":0,\"ticks\":\"\"},\"colorscale\":[[0.0,\"#0d0887\"],[0.1111111111111111,\"#46039f\"],[0.2222222222222222,\"#7201a8\"],[0.3333333333333333,\"#9c179e\"],[0.4444444444444444,\"#bd3786\"],[0.5555555555555556,\"#d8576b\"],[0.6666666666666666,\"#ed7953\"],[0.7777777777777778,\"#fb9f3a\"],[0.8888888888888888,\"#fdca26\"],[1.0,\"#f0f921\"]]}],\"surface\":[{\"type\":\"surface\",\"colorbar\":{\"outlinewidth\":0,\"ticks\":\"\"},\"colorscale\":[[0.0,\"#0d0887\"],[0.1111111111111111,\"#46039f\"],[0.2222222222222222,\"#7201a8\"],[0.3333333333333333,\"#9c179e\"],[0.4444444444444444,\"#bd3786\"],[0.5555555555555556,\"#d8576b\"],[0.6666666666666666,\"#ed7953\"],[0.7777777777777778,\"#fb9f3a\"],[0.8888888888888888,\"#fdca26\"],[1.0,\"#f0f921\"]]}],\"mesh3d\":[{\"type\":\"mesh3d\",\"colorbar\":{\"outlinewidth\":0,\"ticks\":\"\"}}],\"scatter\":[{\"fillpattern\":{\"fillmode\":\"overlay\",\"size\":10,\"solidity\":0.2},\"type\":\"scatter\"}],\"parcoords\":[{\"type\":\"parcoords\",\"line\":{\"colorbar\":{\"outlinewidth\":0,\"ticks\":\"\"}}}],\"scatterpolargl\":[{\"type\":\"scatterpolargl\",\"marker\":{\"colorbar\":{\"outlinewidth\":0,\"ticks\":\"\"}}}],\"bar\":[{\"error_x\":{\"color\":\"#2a3f5f\"},\"error_y\":{\"color\":\"#2a3f5f\"},\"marker\":{\"line\":{\"color\":\"#E5ECF6\",\"width\":0.5},\"pattern\":{\"fillmode\":\"overlay\",\"size\":10,\"solidity\":0.2}},\"type\":\"bar\"}],\"scattergeo\":[{\"type\":\"scattergeo\",\"marker\":{\"colorbar\":{\"outlinewidth\":0,\"ticks\":\"\"}}}],\"scatterpolar\":[{\"type\":\"scatterpolar\",\"marker\":{\"colorbar\":{\"outlinewidth\":0,\"ticks\":\"\"}}}],\"histogram\":[{\"marker\":{\"pattern\":{\"fillmode\":\"overlay\",\"size\":10,\"solidity\":0.2}},\"type\":\"histogram\"}],\"scattergl\":[{\"type\":\"scattergl\",\"marker\":{\"colorbar\":{\"outlinewidth\":0,\"ticks\":\"\"}}}],\"scatter3d\":[{\"type\":\"scatter3d\",\"line\":{\"colorbar\":{\"outlinewidth\":0,\"ticks\":\"\"}},\"marker\":{\"colorbar\":{\"outlinewidth\":0,\"ticks\":\"\"}}}],\"scattermapbox\":[{\"type\":\"scattermapbox\",\"marker\":{\"colorbar\":{\"outlinewidth\":0,\"ticks\":\"\"}}}],\"scatterternary\":[{\"type\":\"scatterternary\",\"marker\":{\"colorbar\":{\"outlinewidth\":0,\"ticks\":\"\"}}}],\"scattercarpet\":[{\"type\":\"scattercarpet\",\"marker\":{\"colorbar\":{\"outlinewidth\":0,\"ticks\":\"\"}}}],\"carpet\":[{\"aaxis\":{\"endlinecolor\":\"#2a3f5f\",\"gridcolor\":\"white\",\"linecolor\":\"white\",\"minorgridcolor\":\"white\",\"startlinecolor\":\"#2a3f5f\"},\"baxis\":{\"endlinecolor\":\"#2a3f5f\",\"gridcolor\":\"white\",\"linecolor\":\"white\",\"minorgridcolor\":\"white\",\"startlinecolor\":\"#2a3f5f\"},\"type\":\"carpet\"}],\"table\":[{\"cells\":{\"fill\":{\"color\":\"#EBF0F8\"},\"line\":{\"color\":\"white\"}},\"header\":{\"fill\":{\"color\":\"#C8D4E3\"},\"line\":{\"color\":\"white\"}},\"type\":\"table\"}],\"barpolar\":[{\"marker\":{\"line\":{\"color\":\"#E5ECF6\",\"width\":0.5},\"pattern\":{\"fillmode\":\"overlay\",\"size\":10,\"solidity\":0.2}},\"type\":\"barpolar\"}],\"pie\":[{\"automargin\":true,\"type\":\"pie\"}]},\"layout\":{\"autotypenumbers\":\"strict\",\"colorway\":[\"#636efa\",\"#EF553B\",\"#00cc96\",\"#ab63fa\",\"#FFA15A\",\"#19d3f3\",\"#FF6692\",\"#B6E880\",\"#FF97FF\",\"#FECB52\"],\"font\":{\"color\":\"#2a3f5f\"},\"hovermode\":\"closest\",\"hoverlabel\":{\"align\":\"left\"},\"paper_bgcolor\":\"white\",\"plot_bgcolor\":\"#E5ECF6\",\"polar\":{\"bgcolor\":\"#E5ECF6\",\"angularaxis\":{\"gridcolor\":\"white\",\"linecolor\":\"white\",\"ticks\":\"\"},\"radialaxis\":{\"gridcolor\":\"white\",\"linecolor\":\"white\",\"ticks\":\"\"}},\"ternary\":{\"bgcolor\":\"#E5ECF6\",\"aaxis\":{\"gridcolor\":\"white\",\"linecolor\":\"white\",\"ticks\":\"\"},\"baxis\":{\"gridcolor\":\"white\",\"linecolor\":\"white\",\"ticks\":\"\"},\"caxis\":{\"gridcolor\":\"white\",\"linecolor\":\"white\",\"ticks\":\"\"}},\"coloraxis\":{\"colorbar\":{\"outlinewidth\":0,\"ticks\":\"\"}},\"colorscale\":{\"sequential\":[[0.0,\"#0d0887\"],[0.1111111111111111,\"#46039f\"],[0.2222222222222222,\"#7201a8\"],[0.3333333333333333,\"#9c179e\"],[0.4444444444444444,\"#bd3786\"],[0.5555555555555556,\"#d8576b\"],[0.6666666666666666,\"#ed7953\"],[0.7777777777777778,\"#fb9f3a\"],[0.8888888888888888,\"#fdca26\"],[1.0,\"#f0f921\"]],\"sequentialminus\":[[0.0,\"#0d0887\"],[0.1111111111111111,\"#46039f\"],[0.2222222222222222,\"#7201a8\"],[0.3333333333333333,\"#9c179e\"],[0.4444444444444444,\"#bd3786\"],[0.5555555555555556,\"#d8576b\"],[0.6666666666666666,\"#ed7953\"],[0.7777777777777778,\"#fb9f3a\"],[0.8888888888888888,\"#fdca26\"],[1.0,\"#f0f921\"]],\"diverging\":[[0,\"#8e0152\"],[0.1,\"#c51b7d\"],[0.2,\"#de77ae\"],[0.3,\"#f1b6da\"],[0.4,\"#fde0ef\"],[0.5,\"#f7f7f7\"],[0.6,\"#e6f5d0\"],[0.7,\"#b8e186\"],[0.8,\"#7fbc41\"],[0.9,\"#4d9221\"],[1,\"#276419\"]]},\"xaxis\":{\"gridcolor\":\"white\",\"linecolor\":\"white\",\"ticks\":\"\",\"title\":{\"standoff\":15},\"zerolinecolor\":\"white\",\"automargin\":true,\"zerolinewidth\":2},\"yaxis\":{\"gridcolor\":\"white\",\"linecolor\":\"white\",\"ticks\":\"\",\"title\":{\"standoff\":15},\"zerolinecolor\":\"white\",\"automargin\":true,\"zerolinewidth\":2},\"scene\":{\"xaxis\":{\"backgroundcolor\":\"#E5ECF6\",\"gridcolor\":\"white\",\"linecolor\":\"white\",\"showbackground\":true,\"ticks\":\"\",\"zerolinecolor\":\"white\",\"gridwidth\":2},\"yaxis\":{\"backgroundcolor\":\"#E5ECF6\",\"gridcolor\":\"white\",\"linecolor\":\"white\",\"showbackground\":true,\"ticks\":\"\",\"zerolinecolor\":\"white\",\"gridwidth\":2},\"zaxis\":{\"backgroundcolor\":\"#E5ECF6\",\"gridcolor\":\"white\",\"linecolor\":\"white\",\"showbackground\":true,\"ticks\":\"\",\"zerolinecolor\":\"white\",\"gridwidth\":2}},\"shapedefaults\":{\"line\":{\"color\":\"#2a3f5f\"}},\"annotationdefaults\":{\"arrowcolor\":\"#2a3f5f\",\"arrowhead\":0,\"arrowwidth\":1},\"geo\":{\"bgcolor\":\"white\",\"landcolor\":\"#E5ECF6\",\"subunitcolor\":\"white\",\"showland\":true,\"showlakes\":true,\"lakecolor\":\"white\"},\"title\":{\"x\":0.05},\"mapbox\":{\"style\":\"light\"}}}},                        {\"responsive\": true}                    ).then(function(){\n",
       "                            \n",
       "var gd = document.getElementById('19e5e508-c0a6-4db8-8af0-adc4decfe37b');\n",
       "var x = new MutationObserver(function (mutations, observer) {{\n",
       "        var display = window.getComputedStyle(gd).display;\n",
       "        if (!display || display === 'none') {{\n",
       "            console.log([gd, 'removed!']);\n",
       "            Plotly.purge(gd);\n",
       "            observer.disconnect();\n",
       "        }}\n",
       "}});\n",
       "\n",
       "// Listen for the removal of the full notebook cells\n",
       "var notebookContainer = gd.closest('#notebook-container');\n",
       "if (notebookContainer) {{\n",
       "    x.observe(notebookContainer, {childList: true});\n",
       "}}\n",
       "\n",
       "// Listen for the clearing of the current output cell\n",
       "var outputEl = gd.closest('.output');\n",
       "if (outputEl) {{\n",
       "    x.observe(outputEl, {childList: true});\n",
       "}}\n",
       "\n",
       "                        })                };                });            </script>        </div>"
      ]
     },
     "metadata": {},
     "output_type": "display_data"
    },
    {
     "data": {
      "application/vnd.plotly.v1+json": {
       "config": {
        "plotlyServerURL": "https://plot.ly"
       },
       "data": [
        {
         "marker": {
          "color": [
           0,
           1,
           2,
           3,
           4,
           5,
           6,
           7,
           8,
           9,
           10,
           11,
           12,
           13,
           14,
           15,
           16,
           17,
           18,
           19,
           20,
           21,
           22,
           23,
           24,
           25,
           26,
           27,
           28,
           29,
           30,
           31,
           32,
           33,
           34,
           35,
           36,
           37,
           38,
           39,
           40,
           41,
           42,
           43,
           44,
           45,
           46,
           47,
           48,
           49
          ],
          "colorbar": {
           "title": {
            "text": "Trial"
           },
           "x": 1,
           "xpad": 40
          },
          "colorscale": [
           [
            0,
            "rgb(247,251,255)"
           ],
           [
            0.125,
            "rgb(222,235,247)"
           ],
           [
            0.25,
            "rgb(198,219,239)"
           ],
           [
            0.375,
            "rgb(158,202,225)"
           ],
           [
            0.5,
            "rgb(107,174,214)"
           ],
           [
            0.625,
            "rgb(66,146,198)"
           ],
           [
            0.75,
            "rgb(33,113,181)"
           ],
           [
            0.875,
            "rgb(8,81,156)"
           ],
           [
            1,
            "rgb(8,48,107)"
           ]
          ],
          "line": {
           "color": "Grey",
           "width": 0.5
          },
          "showscale": true
         },
         "mode": "markers",
         "name": "Feasible Trial",
         "showlegend": false,
         "type": "scatter",
         "x": [
          0.025,
          0.025,
          0.02,
          0.02,
          0.015,
          0.025,
          0.025,
          0.02,
          0.02,
          0.015,
          0.015,
          0.005,
          0.01,
          0.015,
          0.01,
          0.005,
          0.015,
          0.015,
          0.015,
          0.015,
          0.015,
          0.015,
          0.015,
          0.015,
          0.015,
          0.005,
          0.01,
          0.015,
          0.015,
          0.015,
          0.015,
          0.015,
          0.015,
          0.025,
          0.015,
          0.015,
          0.025,
          0.02,
          0.005,
          0.01,
          0.02,
          0.015,
          0.015,
          0.015,
          0.015,
          0.025,
          0.015,
          0.015,
          0.02,
          0.015
         ],
         "xaxis": "x",
         "y": [
          0.5129331617846296,
          0.5323755183451884,
          0.523706557899479,
          0.5110836432361204,
          0.534051042136805,
          0.5313317090040571,
          0.5129776665747903,
          0.5301142717935923,
          0.5100713960409211,
          0.5255633025814697,
          0.5314423997566378,
          0.5217104577375299,
          0.5261356626051479,
          0.5257338681368859,
          0.5309074704568066,
          0.5274439986110945,
          0.5335860911913766,
          0.5323680030956933,
          0.5365397096756812,
          0.5337675034736008,
          0.5227622595887682,
          0.5334612261735362,
          0.5378282452523805,
          0.533757922282658,
          0.5327370393321779,
          0.5217727694386023,
          0.5316652436485063,
          0.5292720563750444,
          0.5310201177720414,
          0.5334020717128971,
          0.5346991078838896,
          0.5328381701440459,
          0.5329451220427079,
          0.5321509533877341,
          0.5319387653997334,
          0.5306669769632654,
          0.532829496290657,
          0.5321391868963394,
          0.5252484805976924,
          0.5334953972562514,
          0.5262632250006088,
          0.5336922596386182,
          0.531129868980619,
          0.5333989170800053,
          0.5331148517587042,
          0.5233751819666914,
          0.5273603577540856,
          0.5366138957977619,
          0.5260018639048787,
          0.5325484280579864
         ],
         "yaxis": "y"
        },
        {
         "marker": {
          "color": [
           0,
           1,
           2,
           3,
           4,
           5,
           6,
           7,
           8,
           9,
           10,
           11,
           12,
           13,
           14,
           15,
           16,
           17,
           18,
           19,
           20,
           21,
           22,
           23,
           24,
           25,
           26,
           27,
           28,
           29,
           30,
           31,
           32,
           33,
           34,
           35,
           36,
           37,
           38,
           39,
           40,
           41,
           42,
           43,
           44,
           45,
           46,
           47,
           48,
           49
          ],
          "colorbar": {
           "title": {
            "text": "Trial"
           },
           "x": 1,
           "xpad": 40
          },
          "colorscale": [
           [
            0,
            "rgb(247,251,255)"
           ],
           [
            0.125,
            "rgb(222,235,247)"
           ],
           [
            0.25,
            "rgb(198,219,239)"
           ],
           [
            0.375,
            "rgb(158,202,225)"
           ],
           [
            0.5,
            "rgb(107,174,214)"
           ],
           [
            0.625,
            "rgb(66,146,198)"
           ],
           [
            0.75,
            "rgb(33,113,181)"
           ],
           [
            0.875,
            "rgb(8,81,156)"
           ],
           [
            1,
            "rgb(8,48,107)"
           ]
          ],
          "line": {
           "color": "Grey",
           "width": 0.5
          },
          "showscale": false
         },
         "mode": "markers",
         "name": "Feasible Trial",
         "showlegend": false,
         "type": "scatter",
         "x": [
          77,
          54,
          65,
          63,
          78,
          66,
          47,
          80,
          70,
          70,
          29,
          51,
          49,
          20,
          36,
          57,
          38,
          39,
          43,
          43,
          30,
          44,
          43,
          56,
          33,
          24,
          42,
          47,
          53,
          60,
          71,
          74,
          76,
          80,
          70,
          73,
          62,
          66,
          77,
          46,
          39,
          42,
          50,
          43,
          34,
          80,
          53,
          68,
          69,
          73
         ],
         "xaxis": "x2",
         "y": [
          0.5129331617846296,
          0.5323755183451884,
          0.523706557899479,
          0.5110836432361204,
          0.534051042136805,
          0.5313317090040571,
          0.5129776665747903,
          0.5301142717935923,
          0.5100713960409211,
          0.5255633025814697,
          0.5314423997566378,
          0.5217104577375299,
          0.5261356626051479,
          0.5257338681368859,
          0.5309074704568066,
          0.5274439986110945,
          0.5335860911913766,
          0.5323680030956933,
          0.5365397096756812,
          0.5337675034736008,
          0.5227622595887682,
          0.5334612261735362,
          0.5378282452523805,
          0.533757922282658,
          0.5327370393321779,
          0.5217727694386023,
          0.5316652436485063,
          0.5292720563750444,
          0.5310201177720414,
          0.5334020717128971,
          0.5346991078838896,
          0.5328381701440459,
          0.5329451220427079,
          0.5321509533877341,
          0.5319387653997334,
          0.5306669769632654,
          0.532829496290657,
          0.5321391868963394,
          0.5252484805976924,
          0.5334953972562514,
          0.5262632250006088,
          0.5336922596386182,
          0.531129868980619,
          0.5333989170800053,
          0.5331148517587042,
          0.5233751819666914,
          0.5273603577540856,
          0.5366138957977619,
          0.5260018639048787,
          0.5325484280579864
         ],
         "yaxis": "y2"
        },
        {
         "marker": {
          "color": [
           0,
           1,
           2,
           3,
           4,
           5,
           6,
           7,
           8,
           9,
           10,
           11,
           12,
           13,
           14,
           15,
           16,
           17,
           18,
           19,
           20,
           21,
           22,
           23,
           24,
           25,
           26,
           27,
           28,
           29,
           30,
           31,
           32,
           33,
           34,
           35,
           36,
           37,
           38,
           39,
           40,
           41,
           42,
           43,
           44,
           45,
           46,
           47,
           48,
           49
          ],
          "colorbar": {
           "title": {
            "text": "Trial"
           },
           "x": 1,
           "xpad": 40
          },
          "colorscale": [
           [
            0,
            "rgb(247,251,255)"
           ],
           [
            0.125,
            "rgb(222,235,247)"
           ],
           [
            0.25,
            "rgb(198,219,239)"
           ],
           [
            0.375,
            "rgb(158,202,225)"
           ],
           [
            0.5,
            "rgb(107,174,214)"
           ],
           [
            0.625,
            "rgb(66,146,198)"
           ],
           [
            0.75,
            "rgb(33,113,181)"
           ],
           [
            0.875,
            "rgb(8,81,156)"
           ],
           [
            1,
            "rgb(8,48,107)"
           ]
          ],
          "line": {
           "color": "Grey",
           "width": 0.5
          },
          "showscale": false
         },
         "mode": "markers",
         "name": "Feasible Trial",
         "showlegend": false,
         "type": "scatter",
         "x": [
          9,
          18,
          10,
          6,
          14,
          26,
          19,
          18,
          13,
          11,
          32,
          18,
          23,
          15,
          23,
          15,
          5,
          5,
          8,
          12,
          8,
          13,
          12,
          9,
          14,
          7,
          16,
          11,
          21,
          9,
          8,
          8,
          11,
          7,
          10,
          16,
          13,
          7,
          9,
          12,
          32,
          12,
          10,
          16,
          12,
          29,
          14,
          20,
          19,
          22
         ],
         "xaxis": "x3",
         "y": [
          0.5129331617846296,
          0.5323755183451884,
          0.523706557899479,
          0.5110836432361204,
          0.534051042136805,
          0.5313317090040571,
          0.5129776665747903,
          0.5301142717935923,
          0.5100713960409211,
          0.5255633025814697,
          0.5314423997566378,
          0.5217104577375299,
          0.5261356626051479,
          0.5257338681368859,
          0.5309074704568066,
          0.5274439986110945,
          0.5335860911913766,
          0.5323680030956933,
          0.5365397096756812,
          0.5337675034736008,
          0.5227622595887682,
          0.5334612261735362,
          0.5378282452523805,
          0.533757922282658,
          0.5327370393321779,
          0.5217727694386023,
          0.5316652436485063,
          0.5292720563750444,
          0.5310201177720414,
          0.5334020717128971,
          0.5346991078838896,
          0.5328381701440459,
          0.5329451220427079,
          0.5321509533877341,
          0.5319387653997334,
          0.5306669769632654,
          0.532829496290657,
          0.5321391868963394,
          0.5252484805976924,
          0.5334953972562514,
          0.5262632250006088,
          0.5336922596386182,
          0.531129868980619,
          0.5333989170800053,
          0.5331148517587042,
          0.5233751819666914,
          0.5273603577540856,
          0.5366138957977619,
          0.5260018639048787,
          0.5325484280579864
         ],
         "yaxis": "y3"
        },
        {
         "marker": {
          "color": [
           0,
           1,
           2,
           3,
           4,
           5,
           6,
           7,
           8,
           9,
           10,
           11,
           12,
           13,
           14,
           15,
           16,
           17,
           18,
           19,
           20,
           21,
           22,
           23,
           24,
           25,
           26,
           27,
           28,
           29,
           30,
           31,
           32,
           33,
           34,
           35,
           36,
           37,
           38,
           39,
           40,
           41,
           42,
           43,
           44,
           45,
           46,
           47,
           48,
           49
          ],
          "colorbar": {
           "title": {
            "text": "Trial"
           },
           "x": 1,
           "xpad": 40
          },
          "colorscale": [
           [
            0,
            "rgb(247,251,255)"
           ],
           [
            0.125,
            "rgb(222,235,247)"
           ],
           [
            0.25,
            "rgb(198,219,239)"
           ],
           [
            0.375,
            "rgb(158,202,225)"
           ],
           [
            0.5,
            "rgb(107,174,214)"
           ],
           [
            0.625,
            "rgb(66,146,198)"
           ],
           [
            0.75,
            "rgb(33,113,181)"
           ],
           [
            0.875,
            "rgb(8,81,156)"
           ],
           [
            1,
            "rgb(8,48,107)"
           ]
          ],
          "line": {
           "color": "Grey",
           "width": 0.5
          },
          "showscale": false
         },
         "mode": "markers",
         "name": "Feasible Trial",
         "showlegend": false,
         "type": "scatter",
         "x": [
          1e-06,
          1e-07,
          1e-05,
          0.001,
          1e-07,
          1e-07,
          1e-06,
          0.0001,
          0.001,
          1e-07,
          0,
          1e-07,
          1e-07,
          1e-07,
          0,
          0.0001,
          1e-05,
          1e-05,
          1e-05,
          1e-05,
          1e-05,
          1e-05,
          1e-05,
          1e-05,
          1e-05,
          1e-06,
          0,
          0.001,
          0.0001,
          1e-06,
          1e-05,
          1e-05,
          1e-05,
          1e-05,
          1e-05,
          1e-07,
          1e-05,
          0.001,
          1e-07,
          1e-06,
          0.0001,
          1e-05,
          1e-05,
          1e-05,
          1e-05,
          1e-07,
          0,
          1e-05,
          0.001,
          1e-05
         ],
         "xaxis": "x4",
         "y": [
          0.5129331617846296,
          0.5323755183451884,
          0.523706557899479,
          0.5110836432361204,
          0.534051042136805,
          0.5313317090040571,
          0.5129776665747903,
          0.5301142717935923,
          0.5100713960409211,
          0.5255633025814697,
          0.5314423997566378,
          0.5217104577375299,
          0.5261356626051479,
          0.5257338681368859,
          0.5309074704568066,
          0.5274439986110945,
          0.5335860911913766,
          0.5323680030956933,
          0.5365397096756812,
          0.5337675034736008,
          0.5227622595887682,
          0.5334612261735362,
          0.5378282452523805,
          0.533757922282658,
          0.5327370393321779,
          0.5217727694386023,
          0.5316652436485063,
          0.5292720563750444,
          0.5310201177720414,
          0.5334020717128971,
          0.5346991078838896,
          0.5328381701440459,
          0.5329451220427079,
          0.5321509533877341,
          0.5319387653997334,
          0.5306669769632654,
          0.532829496290657,
          0.5321391868963394,
          0.5252484805976924,
          0.5334953972562514,
          0.5262632250006088,
          0.5336922596386182,
          0.531129868980619,
          0.5333989170800053,
          0.5331148517587042,
          0.5233751819666914,
          0.5273603577540856,
          0.5366138957977619,
          0.5260018639048787,
          0.5325484280579864
         ],
         "yaxis": "y4"
        },
        {
         "marker": {
          "color": [
           0,
           1,
           2,
           3,
           4,
           5,
           6,
           7,
           8,
           9,
           10,
           11,
           12,
           13,
           14,
           15,
           16,
           17,
           18,
           19,
           20,
           21,
           22,
           23,
           24,
           25,
           26,
           27,
           28,
           29,
           30,
           31,
           32,
           33,
           34,
           35,
           36,
           37,
           38,
           39,
           40,
           41,
           42,
           43,
           44,
           45,
           46,
           47,
           48,
           49
          ],
          "colorbar": {
           "title": {
            "text": "Trial"
           },
           "x": 1,
           "xpad": 40
          },
          "colorscale": [
           [
            0,
            "rgb(247,251,255)"
           ],
           [
            0.125,
            "rgb(222,235,247)"
           ],
           [
            0.25,
            "rgb(198,219,239)"
           ],
           [
            0.375,
            "rgb(158,202,225)"
           ],
           [
            0.5,
            "rgb(107,174,214)"
           ],
           [
            0.625,
            "rgb(66,146,198)"
           ],
           [
            0.75,
            "rgb(33,113,181)"
           ],
           [
            0.875,
            "rgb(8,81,156)"
           ],
           [
            1,
            "rgb(8,48,107)"
           ]
          ],
          "line": {
           "color": "Grey",
           "width": 0.5
          },
          "showscale": false
         },
         "mode": "markers",
         "name": "Feasible Trial",
         "showlegend": false,
         "type": "scatter",
         "x": [
          352,
          104,
          341,
          399,
          226,
          135,
          373,
          133,
          350,
          326,
          229,
          200,
          104,
          285,
          187,
          274,
          179,
          195,
          234,
          246,
          294,
          254,
          226,
          226,
          216,
          155,
          264,
          311,
          244,
          168,
          214,
          215,
          235,
          205,
          265,
          154,
          214,
          177,
          297,
          241,
          255,
          228,
          275,
          248,
          203,
          223,
          390,
          240,
          189,
          235
         ],
         "xaxis": "x5",
         "y": [
          0.5129331617846296,
          0.5323755183451884,
          0.523706557899479,
          0.5110836432361204,
          0.534051042136805,
          0.5313317090040571,
          0.5129776665747903,
          0.5301142717935923,
          0.5100713960409211,
          0.5255633025814697,
          0.5314423997566378,
          0.5217104577375299,
          0.5261356626051479,
          0.5257338681368859,
          0.5309074704568066,
          0.5274439986110945,
          0.5335860911913766,
          0.5323680030956933,
          0.5365397096756812,
          0.5337675034736008,
          0.5227622595887682,
          0.5334612261735362,
          0.5378282452523805,
          0.533757922282658,
          0.5327370393321779,
          0.5217727694386023,
          0.5316652436485063,
          0.5292720563750444,
          0.5310201177720414,
          0.5334020717128971,
          0.5346991078838896,
          0.5328381701440459,
          0.5329451220427079,
          0.5321509533877341,
          0.5319387653997334,
          0.5306669769632654,
          0.532829496290657,
          0.5321391868963394,
          0.5252484805976924,
          0.5334953972562514,
          0.5262632250006088,
          0.5336922596386182,
          0.531129868980619,
          0.5333989170800053,
          0.5331148517587042,
          0.5233751819666914,
          0.5273603577540856,
          0.5366138957977619,
          0.5260018639048787,
          0.5325484280579864
         ],
         "yaxis": "y5"
        },
        {
         "marker": {
          "color": [
           0,
           1,
           2,
           3,
           4,
           5,
           6,
           7,
           8,
           9,
           10,
           11,
           12,
           13,
           14,
           15,
           16,
           17,
           18,
           19,
           20,
           21,
           22,
           23,
           24,
           25,
           26,
           27,
           28,
           29,
           30,
           31,
           32,
           33,
           34,
           35,
           36,
           37,
           38,
           39,
           40,
           41,
           42,
           43,
           44,
           45,
           46,
           47,
           48,
           49
          ],
          "colorbar": {
           "title": {
            "text": "Trial"
           },
           "x": 1,
           "xpad": 40
          },
          "colorscale": [
           [
            0,
            "rgb(247,251,255)"
           ],
           [
            0.125,
            "rgb(222,235,247)"
           ],
           [
            0.25,
            "rgb(198,219,239)"
           ],
           [
            0.375,
            "rgb(158,202,225)"
           ],
           [
            0.5,
            "rgb(107,174,214)"
           ],
           [
            0.625,
            "rgb(66,146,198)"
           ],
           [
            0.75,
            "rgb(33,113,181)"
           ],
           [
            0.875,
            "rgb(8,81,156)"
           ],
           [
            1,
            "rgb(8,48,107)"
           ]
          ],
          "line": {
           "color": "Grey",
           "width": 0.5
          },
          "showscale": false
         },
         "mode": "markers",
         "name": "Feasible Trial",
         "showlegend": false,
         "type": "scatter",
         "x": [
          161,
          180,
          169,
          251,
          139,
          177,
          155,
          205,
          273,
          216,
          112,
          115,
          138,
          233,
          187,
          137,
          102,
          103,
          135,
          138,
          296,
          137,
          127,
          124,
          153,
          125,
          197,
          151,
          166,
          124,
          148,
          147,
          163,
          122,
          178,
          144,
          113,
          167,
          131,
          158,
          193,
          134,
          145,
          111,
          174,
          207,
          158,
          129,
          226,
          116
         ],
         "xaxis": "x6",
         "y": [
          0.5129331617846296,
          0.5323755183451884,
          0.523706557899479,
          0.5110836432361204,
          0.534051042136805,
          0.5313317090040571,
          0.5129776665747903,
          0.5301142717935923,
          0.5100713960409211,
          0.5255633025814697,
          0.5314423997566378,
          0.5217104577375299,
          0.5261356626051479,
          0.5257338681368859,
          0.5309074704568066,
          0.5274439986110945,
          0.5335860911913766,
          0.5323680030956933,
          0.5365397096756812,
          0.5337675034736008,
          0.5227622595887682,
          0.5334612261735362,
          0.5378282452523805,
          0.533757922282658,
          0.5327370393321779,
          0.5217727694386023,
          0.5316652436485063,
          0.5292720563750444,
          0.5310201177720414,
          0.5334020717128971,
          0.5346991078838896,
          0.5328381701440459,
          0.5329451220427079,
          0.5321509533877341,
          0.5319387653997334,
          0.5306669769632654,
          0.532829496290657,
          0.5321391868963394,
          0.5252484805976924,
          0.5334953972562514,
          0.5262632250006088,
          0.5336922596386182,
          0.531129868980619,
          0.5333989170800053,
          0.5331148517587042,
          0.5233751819666914,
          0.5273603577540856,
          0.5366138957977619,
          0.5260018639048787,
          0.5325484280579864
         ],
         "yaxis": "y6"
        }
       ],
       "layout": {
        "template": {
         "data": {
          "bar": [
           {
            "error_x": {
             "color": "#2a3f5f"
            },
            "error_y": {
             "color": "#2a3f5f"
            },
            "marker": {
             "line": {
              "color": "#E5ECF6",
              "width": 0.5
             },
             "pattern": {
              "fillmode": "overlay",
              "size": 10,
              "solidity": 0.2
             }
            },
            "type": "bar"
           }
          ],
          "barpolar": [
           {
            "marker": {
             "line": {
              "color": "#E5ECF6",
              "width": 0.5
             },
             "pattern": {
              "fillmode": "overlay",
              "size": 10,
              "solidity": 0.2
             }
            },
            "type": "barpolar"
           }
          ],
          "carpet": [
           {
            "aaxis": {
             "endlinecolor": "#2a3f5f",
             "gridcolor": "white",
             "linecolor": "white",
             "minorgridcolor": "white",
             "startlinecolor": "#2a3f5f"
            },
            "baxis": {
             "endlinecolor": "#2a3f5f",
             "gridcolor": "white",
             "linecolor": "white",
             "minorgridcolor": "white",
             "startlinecolor": "#2a3f5f"
            },
            "type": "carpet"
           }
          ],
          "choropleth": [
           {
            "colorbar": {
             "outlinewidth": 0,
             "ticks": ""
            },
            "type": "choropleth"
           }
          ],
          "contour": [
           {
            "colorbar": {
             "outlinewidth": 0,
             "ticks": ""
            },
            "colorscale": [
             [
              0,
              "#0d0887"
             ],
             [
              0.1111111111111111,
              "#46039f"
             ],
             [
              0.2222222222222222,
              "#7201a8"
             ],
             [
              0.3333333333333333,
              "#9c179e"
             ],
             [
              0.4444444444444444,
              "#bd3786"
             ],
             [
              0.5555555555555556,
              "#d8576b"
             ],
             [
              0.6666666666666666,
              "#ed7953"
             ],
             [
              0.7777777777777778,
              "#fb9f3a"
             ],
             [
              0.8888888888888888,
              "#fdca26"
             ],
             [
              1,
              "#f0f921"
             ]
            ],
            "type": "contour"
           }
          ],
          "contourcarpet": [
           {
            "colorbar": {
             "outlinewidth": 0,
             "ticks": ""
            },
            "type": "contourcarpet"
           }
          ],
          "heatmap": [
           {
            "colorbar": {
             "outlinewidth": 0,
             "ticks": ""
            },
            "colorscale": [
             [
              0,
              "#0d0887"
             ],
             [
              0.1111111111111111,
              "#46039f"
             ],
             [
              0.2222222222222222,
              "#7201a8"
             ],
             [
              0.3333333333333333,
              "#9c179e"
             ],
             [
              0.4444444444444444,
              "#bd3786"
             ],
             [
              0.5555555555555556,
              "#d8576b"
             ],
             [
              0.6666666666666666,
              "#ed7953"
             ],
             [
              0.7777777777777778,
              "#fb9f3a"
             ],
             [
              0.8888888888888888,
              "#fdca26"
             ],
             [
              1,
              "#f0f921"
             ]
            ],
            "type": "heatmap"
           }
          ],
          "heatmapgl": [
           {
            "colorbar": {
             "outlinewidth": 0,
             "ticks": ""
            },
            "colorscale": [
             [
              0,
              "#0d0887"
             ],
             [
              0.1111111111111111,
              "#46039f"
             ],
             [
              0.2222222222222222,
              "#7201a8"
             ],
             [
              0.3333333333333333,
              "#9c179e"
             ],
             [
              0.4444444444444444,
              "#bd3786"
             ],
             [
              0.5555555555555556,
              "#d8576b"
             ],
             [
              0.6666666666666666,
              "#ed7953"
             ],
             [
              0.7777777777777778,
              "#fb9f3a"
             ],
             [
              0.8888888888888888,
              "#fdca26"
             ],
             [
              1,
              "#f0f921"
             ]
            ],
            "type": "heatmapgl"
           }
          ],
          "histogram": [
           {
            "marker": {
             "pattern": {
              "fillmode": "overlay",
              "size": 10,
              "solidity": 0.2
             }
            },
            "type": "histogram"
           }
          ],
          "histogram2d": [
           {
            "colorbar": {
             "outlinewidth": 0,
             "ticks": ""
            },
            "colorscale": [
             [
              0,
              "#0d0887"
             ],
             [
              0.1111111111111111,
              "#46039f"
             ],
             [
              0.2222222222222222,
              "#7201a8"
             ],
             [
              0.3333333333333333,
              "#9c179e"
             ],
             [
              0.4444444444444444,
              "#bd3786"
             ],
             [
              0.5555555555555556,
              "#d8576b"
             ],
             [
              0.6666666666666666,
              "#ed7953"
             ],
             [
              0.7777777777777778,
              "#fb9f3a"
             ],
             [
              0.8888888888888888,
              "#fdca26"
             ],
             [
              1,
              "#f0f921"
             ]
            ],
            "type": "histogram2d"
           }
          ],
          "histogram2dcontour": [
           {
            "colorbar": {
             "outlinewidth": 0,
             "ticks": ""
            },
            "colorscale": [
             [
              0,
              "#0d0887"
             ],
             [
              0.1111111111111111,
              "#46039f"
             ],
             [
              0.2222222222222222,
              "#7201a8"
             ],
             [
              0.3333333333333333,
              "#9c179e"
             ],
             [
              0.4444444444444444,
              "#bd3786"
             ],
             [
              0.5555555555555556,
              "#d8576b"
             ],
             [
              0.6666666666666666,
              "#ed7953"
             ],
             [
              0.7777777777777778,
              "#fb9f3a"
             ],
             [
              0.8888888888888888,
              "#fdca26"
             ],
             [
              1,
              "#f0f921"
             ]
            ],
            "type": "histogram2dcontour"
           }
          ],
          "mesh3d": [
           {
            "colorbar": {
             "outlinewidth": 0,
             "ticks": ""
            },
            "type": "mesh3d"
           }
          ],
          "parcoords": [
           {
            "line": {
             "colorbar": {
              "outlinewidth": 0,
              "ticks": ""
             }
            },
            "type": "parcoords"
           }
          ],
          "pie": [
           {
            "automargin": true,
            "type": "pie"
           }
          ],
          "scatter": [
           {
            "fillpattern": {
             "fillmode": "overlay",
             "size": 10,
             "solidity": 0.2
            },
            "type": "scatter"
           }
          ],
          "scatter3d": [
           {
            "line": {
             "colorbar": {
              "outlinewidth": 0,
              "ticks": ""
             }
            },
            "marker": {
             "colorbar": {
              "outlinewidth": 0,
              "ticks": ""
             }
            },
            "type": "scatter3d"
           }
          ],
          "scattercarpet": [
           {
            "marker": {
             "colorbar": {
              "outlinewidth": 0,
              "ticks": ""
             }
            },
            "type": "scattercarpet"
           }
          ],
          "scattergeo": [
           {
            "marker": {
             "colorbar": {
              "outlinewidth": 0,
              "ticks": ""
             }
            },
            "type": "scattergeo"
           }
          ],
          "scattergl": [
           {
            "marker": {
             "colorbar": {
              "outlinewidth": 0,
              "ticks": ""
             }
            },
            "type": "scattergl"
           }
          ],
          "scattermapbox": [
           {
            "marker": {
             "colorbar": {
              "outlinewidth": 0,
              "ticks": ""
             }
            },
            "type": "scattermapbox"
           }
          ],
          "scatterpolar": [
           {
            "marker": {
             "colorbar": {
              "outlinewidth": 0,
              "ticks": ""
             }
            },
            "type": "scatterpolar"
           }
          ],
          "scatterpolargl": [
           {
            "marker": {
             "colorbar": {
              "outlinewidth": 0,
              "ticks": ""
             }
            },
            "type": "scatterpolargl"
           }
          ],
          "scatterternary": [
           {
            "marker": {
             "colorbar": {
              "outlinewidth": 0,
              "ticks": ""
             }
            },
            "type": "scatterternary"
           }
          ],
          "surface": [
           {
            "colorbar": {
             "outlinewidth": 0,
             "ticks": ""
            },
            "colorscale": [
             [
              0,
              "#0d0887"
             ],
             [
              0.1111111111111111,
              "#46039f"
             ],
             [
              0.2222222222222222,
              "#7201a8"
             ],
             [
              0.3333333333333333,
              "#9c179e"
             ],
             [
              0.4444444444444444,
              "#bd3786"
             ],
             [
              0.5555555555555556,
              "#d8576b"
             ],
             [
              0.6666666666666666,
              "#ed7953"
             ],
             [
              0.7777777777777778,
              "#fb9f3a"
             ],
             [
              0.8888888888888888,
              "#fdca26"
             ],
             [
              1,
              "#f0f921"
             ]
            ],
            "type": "surface"
           }
          ],
          "table": [
           {
            "cells": {
             "fill": {
              "color": "#EBF0F8"
             },
             "line": {
              "color": "white"
             }
            },
            "header": {
             "fill": {
              "color": "#C8D4E3"
             },
             "line": {
              "color": "white"
             }
            },
            "type": "table"
           }
          ]
         },
         "layout": {
          "annotationdefaults": {
           "arrowcolor": "#2a3f5f",
           "arrowhead": 0,
           "arrowwidth": 1
          },
          "autotypenumbers": "strict",
          "coloraxis": {
           "colorbar": {
            "outlinewidth": 0,
            "ticks": ""
           }
          },
          "colorscale": {
           "diverging": [
            [
             0,
             "#8e0152"
            ],
            [
             0.1,
             "#c51b7d"
            ],
            [
             0.2,
             "#de77ae"
            ],
            [
             0.3,
             "#f1b6da"
            ],
            [
             0.4,
             "#fde0ef"
            ],
            [
             0.5,
             "#f7f7f7"
            ],
            [
             0.6,
             "#e6f5d0"
            ],
            [
             0.7,
             "#b8e186"
            ],
            [
             0.8,
             "#7fbc41"
            ],
            [
             0.9,
             "#4d9221"
            ],
            [
             1,
             "#276419"
            ]
           ],
           "sequential": [
            [
             0,
             "#0d0887"
            ],
            [
             0.1111111111111111,
             "#46039f"
            ],
            [
             0.2222222222222222,
             "#7201a8"
            ],
            [
             0.3333333333333333,
             "#9c179e"
            ],
            [
             0.4444444444444444,
             "#bd3786"
            ],
            [
             0.5555555555555556,
             "#d8576b"
            ],
            [
             0.6666666666666666,
             "#ed7953"
            ],
            [
             0.7777777777777778,
             "#fb9f3a"
            ],
            [
             0.8888888888888888,
             "#fdca26"
            ],
            [
             1,
             "#f0f921"
            ]
           ],
           "sequentialminus": [
            [
             0,
             "#0d0887"
            ],
            [
             0.1111111111111111,
             "#46039f"
            ],
            [
             0.2222222222222222,
             "#7201a8"
            ],
            [
             0.3333333333333333,
             "#9c179e"
            ],
            [
             0.4444444444444444,
             "#bd3786"
            ],
            [
             0.5555555555555556,
             "#d8576b"
            ],
            [
             0.6666666666666666,
             "#ed7953"
            ],
            [
             0.7777777777777778,
             "#fb9f3a"
            ],
            [
             0.8888888888888888,
             "#fdca26"
            ],
            [
             1,
             "#f0f921"
            ]
           ]
          },
          "colorway": [
           "#636efa",
           "#EF553B",
           "#00cc96",
           "#ab63fa",
           "#FFA15A",
           "#19d3f3",
           "#FF6692",
           "#B6E880",
           "#FF97FF",
           "#FECB52"
          ],
          "font": {
           "color": "#2a3f5f"
          },
          "geo": {
           "bgcolor": "white",
           "lakecolor": "white",
           "landcolor": "#E5ECF6",
           "showlakes": true,
           "showland": true,
           "subunitcolor": "white"
          },
          "hoverlabel": {
           "align": "left"
          },
          "hovermode": "closest",
          "mapbox": {
           "style": "light"
          },
          "paper_bgcolor": "white",
          "plot_bgcolor": "#E5ECF6",
          "polar": {
           "angularaxis": {
            "gridcolor": "white",
            "linecolor": "white",
            "ticks": ""
           },
           "bgcolor": "#E5ECF6",
           "radialaxis": {
            "gridcolor": "white",
            "linecolor": "white",
            "ticks": ""
           }
          },
          "scene": {
           "xaxis": {
            "backgroundcolor": "#E5ECF6",
            "gridcolor": "white",
            "gridwidth": 2,
            "linecolor": "white",
            "showbackground": true,
            "ticks": "",
            "zerolinecolor": "white"
           },
           "yaxis": {
            "backgroundcolor": "#E5ECF6",
            "gridcolor": "white",
            "gridwidth": 2,
            "linecolor": "white",
            "showbackground": true,
            "ticks": "",
            "zerolinecolor": "white"
           },
           "zaxis": {
            "backgroundcolor": "#E5ECF6",
            "gridcolor": "white",
            "gridwidth": 2,
            "linecolor": "white",
            "showbackground": true,
            "ticks": "",
            "zerolinecolor": "white"
           }
          },
          "shapedefaults": {
           "line": {
            "color": "#2a3f5f"
           }
          },
          "ternary": {
           "aaxis": {
            "gridcolor": "white",
            "linecolor": "white",
            "ticks": ""
           },
           "baxis": {
            "gridcolor": "white",
            "linecolor": "white",
            "ticks": ""
           },
           "bgcolor": "#E5ECF6",
           "caxis": {
            "gridcolor": "white",
            "linecolor": "white",
            "ticks": ""
           }
          },
          "title": {
           "x": 0.05
          },
          "xaxis": {
           "automargin": true,
           "gridcolor": "white",
           "linecolor": "white",
           "ticks": "",
           "title": {
            "standoff": 15
           },
           "zerolinecolor": "white",
           "zerolinewidth": 2
          },
          "yaxis": {
           "automargin": true,
           "gridcolor": "white",
           "linecolor": "white",
           "ticks": "",
           "title": {
            "standoff": 15
           },
           "zerolinecolor": "white",
           "zerolinewidth": 2
          }
         }
        },
        "title": {
         "text": "Slice Plot"
        },
        "width": 1800,
        "xaxis": {
         "anchor": "y",
         "categoryarray": [
          0.01,
          0.005,
          0.015,
          0.02,
          0.025
         ],
         "categoryorder": "array",
         "domain": [
          0,
          0.1388888888888889
         ],
         "title": {
          "text": "learning_rate"
         },
         "type": "category"
        },
        "xaxis2": {
         "anchor": "y2",
         "domain": [
          0.17222222222222222,
          0.3111111111111111
         ],
         "title": {
          "text": "max_depth"
         }
        },
        "xaxis3": {
         "anchor": "y3",
         "domain": [
          0.34444444444444444,
          0.48333333333333334
         ],
         "title": {
          "text": "min_child_samples"
         }
        },
        "xaxis4": {
         "anchor": "y4",
         "categoryarray": [
          0.001,
          0.0001,
          1e-05,
          1e-06,
          1e-07,
          0
         ],
         "categoryorder": "array",
         "domain": [
          0.5166666666666667,
          0.6555555555555557
         ],
         "title": {
          "text": "min_child_weight"
         },
         "type": "category"
        },
        "xaxis5": {
         "anchor": "y5",
         "domain": [
          0.6888888888888889,
          0.8277777777777777
         ],
         "title": {
          "text": "n_estimators"
         }
        },
        "xaxis6": {
         "anchor": "y6",
         "domain": [
          0.861111111111111,
          1
         ],
         "title": {
          "text": "num_leaves"
         }
        },
        "yaxis": {
         "anchor": "x",
         "domain": [
          0,
          1
         ],
         "title": {
          "text": "Objective Value"
         }
        },
        "yaxis2": {
         "anchor": "x2",
         "domain": [
          0,
          1
         ],
         "matches": "y",
         "showticklabels": false
        },
        "yaxis3": {
         "anchor": "x3",
         "domain": [
          0,
          1
         ],
         "matches": "y",
         "showticklabels": false
        },
        "yaxis4": {
         "anchor": "x4",
         "domain": [
          0,
          1
         ],
         "matches": "y",
         "showticklabels": false
        },
        "yaxis5": {
         "anchor": "x5",
         "domain": [
          0,
          1
         ],
         "matches": "y",
         "showticklabels": false
        },
        "yaxis6": {
         "anchor": "x6",
         "domain": [
          0,
          1
         ],
         "matches": "y",
         "showticklabels": false
        }
       }
      },
      "text/html": [
       "<div>                            <div id=\"58e36b52-9ca6-46b0-8f8c-53c432735854\" class=\"plotly-graph-div\" style=\"height:525px; width:1800px;\"></div>            <script type=\"text/javascript\">                require([\"plotly\"], function(Plotly) {                    window.PLOTLYENV=window.PLOTLYENV || {};                                    if (document.getElementById(\"58e36b52-9ca6-46b0-8f8c-53c432735854\")) {                    Plotly.newPlot(                        \"58e36b52-9ca6-46b0-8f8c-53c432735854\",                        [{\"marker\":{\"color\":[0,1,2,3,4,5,6,7,8,9,10,11,12,13,14,15,16,17,18,19,20,21,22,23,24,25,26,27,28,29,30,31,32,33,34,35,36,37,38,39,40,41,42,43,44,45,46,47,48,49],\"colorbar\":{\"title\":{\"text\":\"Trial\"},\"x\":1.0,\"xpad\":40},\"colorscale\":[[0.0,\"rgb(247,251,255)\"],[0.125,\"rgb(222,235,247)\"],[0.25,\"rgb(198,219,239)\"],[0.375,\"rgb(158,202,225)\"],[0.5,\"rgb(107,174,214)\"],[0.625,\"rgb(66,146,198)\"],[0.75,\"rgb(33,113,181)\"],[0.875,\"rgb(8,81,156)\"],[1.0,\"rgb(8,48,107)\"]],\"line\":{\"color\":\"Grey\",\"width\":0.5},\"showscale\":true},\"mode\":\"markers\",\"name\":\"Feasible Trial\",\"showlegend\":false,\"x\":[0.025,0.025,0.02,0.02,0.015,0.025,0.025,0.02,0.02,0.015,0.015,0.005,0.01,0.015,0.01,0.005,0.015,0.015,0.015,0.015,0.015,0.015,0.015,0.015,0.015,0.005,0.01,0.015,0.015,0.015,0.015,0.015,0.015,0.025,0.015,0.015,0.025,0.02,0.005,0.01,0.02,0.015,0.015,0.015,0.015,0.025,0.015,0.015,0.02,0.015],\"y\":[0.5129331617846296,0.5323755183451884,0.523706557899479,0.5110836432361204,0.534051042136805,0.5313317090040571,0.5129776665747903,0.5301142717935923,0.5100713960409211,0.5255633025814697,0.5314423997566378,0.5217104577375299,0.5261356626051479,0.5257338681368859,0.5309074704568066,0.5274439986110945,0.5335860911913766,0.5323680030956933,0.5365397096756812,0.5337675034736008,0.5227622595887682,0.5334612261735362,0.5378282452523805,0.533757922282658,0.5327370393321779,0.5217727694386023,0.5316652436485063,0.5292720563750444,0.5310201177720414,0.5334020717128971,0.5346991078838896,0.5328381701440459,0.5329451220427079,0.5321509533877341,0.5319387653997334,0.5306669769632654,0.532829496290657,0.5321391868963394,0.5252484805976924,0.5334953972562514,0.5262632250006088,0.5336922596386182,0.531129868980619,0.5333989170800053,0.5331148517587042,0.5233751819666914,0.5273603577540856,0.5366138957977619,0.5260018639048787,0.5325484280579864],\"type\":\"scatter\",\"xaxis\":\"x\",\"yaxis\":\"y\"},{\"marker\":{\"color\":[0,1,2,3,4,5,6,7,8,9,10,11,12,13,14,15,16,17,18,19,20,21,22,23,24,25,26,27,28,29,30,31,32,33,34,35,36,37,38,39,40,41,42,43,44,45,46,47,48,49],\"colorbar\":{\"title\":{\"text\":\"Trial\"},\"x\":1.0,\"xpad\":40},\"colorscale\":[[0.0,\"rgb(247,251,255)\"],[0.125,\"rgb(222,235,247)\"],[0.25,\"rgb(198,219,239)\"],[0.375,\"rgb(158,202,225)\"],[0.5,\"rgb(107,174,214)\"],[0.625,\"rgb(66,146,198)\"],[0.75,\"rgb(33,113,181)\"],[0.875,\"rgb(8,81,156)\"],[1.0,\"rgb(8,48,107)\"]],\"line\":{\"color\":\"Grey\",\"width\":0.5},\"showscale\":false},\"mode\":\"markers\",\"name\":\"Feasible Trial\",\"showlegend\":false,\"x\":[77,54,65,63,78,66,47,80,70,70,29,51,49,20,36,57,38,39,43,43,30,44,43,56,33,24,42,47,53,60,71,74,76,80,70,73,62,66,77,46,39,42,50,43,34,80,53,68,69,73],\"y\":[0.5129331617846296,0.5323755183451884,0.523706557899479,0.5110836432361204,0.534051042136805,0.5313317090040571,0.5129776665747903,0.5301142717935923,0.5100713960409211,0.5255633025814697,0.5314423997566378,0.5217104577375299,0.5261356626051479,0.5257338681368859,0.5309074704568066,0.5274439986110945,0.5335860911913766,0.5323680030956933,0.5365397096756812,0.5337675034736008,0.5227622595887682,0.5334612261735362,0.5378282452523805,0.533757922282658,0.5327370393321779,0.5217727694386023,0.5316652436485063,0.5292720563750444,0.5310201177720414,0.5334020717128971,0.5346991078838896,0.5328381701440459,0.5329451220427079,0.5321509533877341,0.5319387653997334,0.5306669769632654,0.532829496290657,0.5321391868963394,0.5252484805976924,0.5334953972562514,0.5262632250006088,0.5336922596386182,0.531129868980619,0.5333989170800053,0.5331148517587042,0.5233751819666914,0.5273603577540856,0.5366138957977619,0.5260018639048787,0.5325484280579864],\"type\":\"scatter\",\"xaxis\":\"x2\",\"yaxis\":\"y2\"},{\"marker\":{\"color\":[0,1,2,3,4,5,6,7,8,9,10,11,12,13,14,15,16,17,18,19,20,21,22,23,24,25,26,27,28,29,30,31,32,33,34,35,36,37,38,39,40,41,42,43,44,45,46,47,48,49],\"colorbar\":{\"title\":{\"text\":\"Trial\"},\"x\":1.0,\"xpad\":40},\"colorscale\":[[0.0,\"rgb(247,251,255)\"],[0.125,\"rgb(222,235,247)\"],[0.25,\"rgb(198,219,239)\"],[0.375,\"rgb(158,202,225)\"],[0.5,\"rgb(107,174,214)\"],[0.625,\"rgb(66,146,198)\"],[0.75,\"rgb(33,113,181)\"],[0.875,\"rgb(8,81,156)\"],[1.0,\"rgb(8,48,107)\"]],\"line\":{\"color\":\"Grey\",\"width\":0.5},\"showscale\":false},\"mode\":\"markers\",\"name\":\"Feasible Trial\",\"showlegend\":false,\"x\":[9,18,10,6,14,26,19,18,13,11,32,18,23,15,23,15,5,5,8,12,8,13,12,9,14,7,16,11,21,9,8,8,11,7,10,16,13,7,9,12,32,12,10,16,12,29,14,20,19,22],\"y\":[0.5129331617846296,0.5323755183451884,0.523706557899479,0.5110836432361204,0.534051042136805,0.5313317090040571,0.5129776665747903,0.5301142717935923,0.5100713960409211,0.5255633025814697,0.5314423997566378,0.5217104577375299,0.5261356626051479,0.5257338681368859,0.5309074704568066,0.5274439986110945,0.5335860911913766,0.5323680030956933,0.5365397096756812,0.5337675034736008,0.5227622595887682,0.5334612261735362,0.5378282452523805,0.533757922282658,0.5327370393321779,0.5217727694386023,0.5316652436485063,0.5292720563750444,0.5310201177720414,0.5334020717128971,0.5346991078838896,0.5328381701440459,0.5329451220427079,0.5321509533877341,0.5319387653997334,0.5306669769632654,0.532829496290657,0.5321391868963394,0.5252484805976924,0.5334953972562514,0.5262632250006088,0.5336922596386182,0.531129868980619,0.5333989170800053,0.5331148517587042,0.5233751819666914,0.5273603577540856,0.5366138957977619,0.5260018639048787,0.5325484280579864],\"type\":\"scatter\",\"xaxis\":\"x3\",\"yaxis\":\"y3\"},{\"marker\":{\"color\":[0,1,2,3,4,5,6,7,8,9,10,11,12,13,14,15,16,17,18,19,20,21,22,23,24,25,26,27,28,29,30,31,32,33,34,35,36,37,38,39,40,41,42,43,44,45,46,47,48,49],\"colorbar\":{\"title\":{\"text\":\"Trial\"},\"x\":1.0,\"xpad\":40},\"colorscale\":[[0.0,\"rgb(247,251,255)\"],[0.125,\"rgb(222,235,247)\"],[0.25,\"rgb(198,219,239)\"],[0.375,\"rgb(158,202,225)\"],[0.5,\"rgb(107,174,214)\"],[0.625,\"rgb(66,146,198)\"],[0.75,\"rgb(33,113,181)\"],[0.875,\"rgb(8,81,156)\"],[1.0,\"rgb(8,48,107)\"]],\"line\":{\"color\":\"Grey\",\"width\":0.5},\"showscale\":false},\"mode\":\"markers\",\"name\":\"Feasible Trial\",\"showlegend\":false,\"x\":[1e-06,1e-07,1e-05,0.001,1e-07,1e-07,1e-06,0.0001,0.001,1e-07,0,1e-07,1e-07,1e-07,0,0.0001,1e-05,1e-05,1e-05,1e-05,1e-05,1e-05,1e-05,1e-05,1e-05,1e-06,0,0.001,0.0001,1e-06,1e-05,1e-05,1e-05,1e-05,1e-05,1e-07,1e-05,0.001,1e-07,1e-06,0.0001,1e-05,1e-05,1e-05,1e-05,1e-07,0,1e-05,0.001,1e-05],\"y\":[0.5129331617846296,0.5323755183451884,0.523706557899479,0.5110836432361204,0.534051042136805,0.5313317090040571,0.5129776665747903,0.5301142717935923,0.5100713960409211,0.5255633025814697,0.5314423997566378,0.5217104577375299,0.5261356626051479,0.5257338681368859,0.5309074704568066,0.5274439986110945,0.5335860911913766,0.5323680030956933,0.5365397096756812,0.5337675034736008,0.5227622595887682,0.5334612261735362,0.5378282452523805,0.533757922282658,0.5327370393321779,0.5217727694386023,0.5316652436485063,0.5292720563750444,0.5310201177720414,0.5334020717128971,0.5346991078838896,0.5328381701440459,0.5329451220427079,0.5321509533877341,0.5319387653997334,0.5306669769632654,0.532829496290657,0.5321391868963394,0.5252484805976924,0.5334953972562514,0.5262632250006088,0.5336922596386182,0.531129868980619,0.5333989170800053,0.5331148517587042,0.5233751819666914,0.5273603577540856,0.5366138957977619,0.5260018639048787,0.5325484280579864],\"type\":\"scatter\",\"xaxis\":\"x4\",\"yaxis\":\"y4\"},{\"marker\":{\"color\":[0,1,2,3,4,5,6,7,8,9,10,11,12,13,14,15,16,17,18,19,20,21,22,23,24,25,26,27,28,29,30,31,32,33,34,35,36,37,38,39,40,41,42,43,44,45,46,47,48,49],\"colorbar\":{\"title\":{\"text\":\"Trial\"},\"x\":1.0,\"xpad\":40},\"colorscale\":[[0.0,\"rgb(247,251,255)\"],[0.125,\"rgb(222,235,247)\"],[0.25,\"rgb(198,219,239)\"],[0.375,\"rgb(158,202,225)\"],[0.5,\"rgb(107,174,214)\"],[0.625,\"rgb(66,146,198)\"],[0.75,\"rgb(33,113,181)\"],[0.875,\"rgb(8,81,156)\"],[1.0,\"rgb(8,48,107)\"]],\"line\":{\"color\":\"Grey\",\"width\":0.5},\"showscale\":false},\"mode\":\"markers\",\"name\":\"Feasible Trial\",\"showlegend\":false,\"x\":[352,104,341,399,226,135,373,133,350,326,229,200,104,285,187,274,179,195,234,246,294,254,226,226,216,155,264,311,244,168,214,215,235,205,265,154,214,177,297,241,255,228,275,248,203,223,390,240,189,235],\"y\":[0.5129331617846296,0.5323755183451884,0.523706557899479,0.5110836432361204,0.534051042136805,0.5313317090040571,0.5129776665747903,0.5301142717935923,0.5100713960409211,0.5255633025814697,0.5314423997566378,0.5217104577375299,0.5261356626051479,0.5257338681368859,0.5309074704568066,0.5274439986110945,0.5335860911913766,0.5323680030956933,0.5365397096756812,0.5337675034736008,0.5227622595887682,0.5334612261735362,0.5378282452523805,0.533757922282658,0.5327370393321779,0.5217727694386023,0.5316652436485063,0.5292720563750444,0.5310201177720414,0.5334020717128971,0.5346991078838896,0.5328381701440459,0.5329451220427079,0.5321509533877341,0.5319387653997334,0.5306669769632654,0.532829496290657,0.5321391868963394,0.5252484805976924,0.5334953972562514,0.5262632250006088,0.5336922596386182,0.531129868980619,0.5333989170800053,0.5331148517587042,0.5233751819666914,0.5273603577540856,0.5366138957977619,0.5260018639048787,0.5325484280579864],\"type\":\"scatter\",\"xaxis\":\"x5\",\"yaxis\":\"y5\"},{\"marker\":{\"color\":[0,1,2,3,4,5,6,7,8,9,10,11,12,13,14,15,16,17,18,19,20,21,22,23,24,25,26,27,28,29,30,31,32,33,34,35,36,37,38,39,40,41,42,43,44,45,46,47,48,49],\"colorbar\":{\"title\":{\"text\":\"Trial\"},\"x\":1.0,\"xpad\":40},\"colorscale\":[[0.0,\"rgb(247,251,255)\"],[0.125,\"rgb(222,235,247)\"],[0.25,\"rgb(198,219,239)\"],[0.375,\"rgb(158,202,225)\"],[0.5,\"rgb(107,174,214)\"],[0.625,\"rgb(66,146,198)\"],[0.75,\"rgb(33,113,181)\"],[0.875,\"rgb(8,81,156)\"],[1.0,\"rgb(8,48,107)\"]],\"line\":{\"color\":\"Grey\",\"width\":0.5},\"showscale\":false},\"mode\":\"markers\",\"name\":\"Feasible Trial\",\"showlegend\":false,\"x\":[161,180,169,251,139,177,155,205,273,216,112,115,138,233,187,137,102,103,135,138,296,137,127,124,153,125,197,151,166,124,148,147,163,122,178,144,113,167,131,158,193,134,145,111,174,207,158,129,226,116],\"y\":[0.5129331617846296,0.5323755183451884,0.523706557899479,0.5110836432361204,0.534051042136805,0.5313317090040571,0.5129776665747903,0.5301142717935923,0.5100713960409211,0.5255633025814697,0.5314423997566378,0.5217104577375299,0.5261356626051479,0.5257338681368859,0.5309074704568066,0.5274439986110945,0.5335860911913766,0.5323680030956933,0.5365397096756812,0.5337675034736008,0.5227622595887682,0.5334612261735362,0.5378282452523805,0.533757922282658,0.5327370393321779,0.5217727694386023,0.5316652436485063,0.5292720563750444,0.5310201177720414,0.5334020717128971,0.5346991078838896,0.5328381701440459,0.5329451220427079,0.5321509533877341,0.5319387653997334,0.5306669769632654,0.532829496290657,0.5321391868963394,0.5252484805976924,0.5334953972562514,0.5262632250006088,0.5336922596386182,0.531129868980619,0.5333989170800053,0.5331148517587042,0.5233751819666914,0.5273603577540856,0.5366138957977619,0.5260018639048787,0.5325484280579864],\"type\":\"scatter\",\"xaxis\":\"x6\",\"yaxis\":\"y6\"}],                        {\"template\":{\"data\":{\"histogram2dcontour\":[{\"type\":\"histogram2dcontour\",\"colorbar\":{\"outlinewidth\":0,\"ticks\":\"\"},\"colorscale\":[[0.0,\"#0d0887\"],[0.1111111111111111,\"#46039f\"],[0.2222222222222222,\"#7201a8\"],[0.3333333333333333,\"#9c179e\"],[0.4444444444444444,\"#bd3786\"],[0.5555555555555556,\"#d8576b\"],[0.6666666666666666,\"#ed7953\"],[0.7777777777777778,\"#fb9f3a\"],[0.8888888888888888,\"#fdca26\"],[1.0,\"#f0f921\"]]}],\"choropleth\":[{\"type\":\"choropleth\",\"colorbar\":{\"outlinewidth\":0,\"ticks\":\"\"}}],\"histogram2d\":[{\"type\":\"histogram2d\",\"colorbar\":{\"outlinewidth\":0,\"ticks\":\"\"},\"colorscale\":[[0.0,\"#0d0887\"],[0.1111111111111111,\"#46039f\"],[0.2222222222222222,\"#7201a8\"],[0.3333333333333333,\"#9c179e\"],[0.4444444444444444,\"#bd3786\"],[0.5555555555555556,\"#d8576b\"],[0.6666666666666666,\"#ed7953\"],[0.7777777777777778,\"#fb9f3a\"],[0.8888888888888888,\"#fdca26\"],[1.0,\"#f0f921\"]]}],\"heatmap\":[{\"type\":\"heatmap\",\"colorbar\":{\"outlinewidth\":0,\"ticks\":\"\"},\"colorscale\":[[0.0,\"#0d0887\"],[0.1111111111111111,\"#46039f\"],[0.2222222222222222,\"#7201a8\"],[0.3333333333333333,\"#9c179e\"],[0.4444444444444444,\"#bd3786\"],[0.5555555555555556,\"#d8576b\"],[0.6666666666666666,\"#ed7953\"],[0.7777777777777778,\"#fb9f3a\"],[0.8888888888888888,\"#fdca26\"],[1.0,\"#f0f921\"]]}],\"heatmapgl\":[{\"type\":\"heatmapgl\",\"colorbar\":{\"outlinewidth\":0,\"ticks\":\"\"},\"colorscale\":[[0.0,\"#0d0887\"],[0.1111111111111111,\"#46039f\"],[0.2222222222222222,\"#7201a8\"],[0.3333333333333333,\"#9c179e\"],[0.4444444444444444,\"#bd3786\"],[0.5555555555555556,\"#d8576b\"],[0.6666666666666666,\"#ed7953\"],[0.7777777777777778,\"#fb9f3a\"],[0.8888888888888888,\"#fdca26\"],[1.0,\"#f0f921\"]]}],\"contourcarpet\":[{\"type\":\"contourcarpet\",\"colorbar\":{\"outlinewidth\":0,\"ticks\":\"\"}}],\"contour\":[{\"type\":\"contour\",\"colorbar\":{\"outlinewidth\":0,\"ticks\":\"\"},\"colorscale\":[[0.0,\"#0d0887\"],[0.1111111111111111,\"#46039f\"],[0.2222222222222222,\"#7201a8\"],[0.3333333333333333,\"#9c179e\"],[0.4444444444444444,\"#bd3786\"],[0.5555555555555556,\"#d8576b\"],[0.6666666666666666,\"#ed7953\"],[0.7777777777777778,\"#fb9f3a\"],[0.8888888888888888,\"#fdca26\"],[1.0,\"#f0f921\"]]}],\"surface\":[{\"type\":\"surface\",\"colorbar\":{\"outlinewidth\":0,\"ticks\":\"\"},\"colorscale\":[[0.0,\"#0d0887\"],[0.1111111111111111,\"#46039f\"],[0.2222222222222222,\"#7201a8\"],[0.3333333333333333,\"#9c179e\"],[0.4444444444444444,\"#bd3786\"],[0.5555555555555556,\"#d8576b\"],[0.6666666666666666,\"#ed7953\"],[0.7777777777777778,\"#fb9f3a\"],[0.8888888888888888,\"#fdca26\"],[1.0,\"#f0f921\"]]}],\"mesh3d\":[{\"type\":\"mesh3d\",\"colorbar\":{\"outlinewidth\":0,\"ticks\":\"\"}}],\"scatter\":[{\"fillpattern\":{\"fillmode\":\"overlay\",\"size\":10,\"solidity\":0.2},\"type\":\"scatter\"}],\"parcoords\":[{\"type\":\"parcoords\",\"line\":{\"colorbar\":{\"outlinewidth\":0,\"ticks\":\"\"}}}],\"scatterpolargl\":[{\"type\":\"scatterpolargl\",\"marker\":{\"colorbar\":{\"outlinewidth\":0,\"ticks\":\"\"}}}],\"bar\":[{\"error_x\":{\"color\":\"#2a3f5f\"},\"error_y\":{\"color\":\"#2a3f5f\"},\"marker\":{\"line\":{\"color\":\"#E5ECF6\",\"width\":0.5},\"pattern\":{\"fillmode\":\"overlay\",\"size\":10,\"solidity\":0.2}},\"type\":\"bar\"}],\"scattergeo\":[{\"type\":\"scattergeo\",\"marker\":{\"colorbar\":{\"outlinewidth\":0,\"ticks\":\"\"}}}],\"scatterpolar\":[{\"type\":\"scatterpolar\",\"marker\":{\"colorbar\":{\"outlinewidth\":0,\"ticks\":\"\"}}}],\"histogram\":[{\"marker\":{\"pattern\":{\"fillmode\":\"overlay\",\"size\":10,\"solidity\":0.2}},\"type\":\"histogram\"}],\"scattergl\":[{\"type\":\"scattergl\",\"marker\":{\"colorbar\":{\"outlinewidth\":0,\"ticks\":\"\"}}}],\"scatter3d\":[{\"type\":\"scatter3d\",\"line\":{\"colorbar\":{\"outlinewidth\":0,\"ticks\":\"\"}},\"marker\":{\"colorbar\":{\"outlinewidth\":0,\"ticks\":\"\"}}}],\"scattermapbox\":[{\"type\":\"scattermapbox\",\"marker\":{\"colorbar\":{\"outlinewidth\":0,\"ticks\":\"\"}}}],\"scatterternary\":[{\"type\":\"scatterternary\",\"marker\":{\"colorbar\":{\"outlinewidth\":0,\"ticks\":\"\"}}}],\"scattercarpet\":[{\"type\":\"scattercarpet\",\"marker\":{\"colorbar\":{\"outlinewidth\":0,\"ticks\":\"\"}}}],\"carpet\":[{\"aaxis\":{\"endlinecolor\":\"#2a3f5f\",\"gridcolor\":\"white\",\"linecolor\":\"white\",\"minorgridcolor\":\"white\",\"startlinecolor\":\"#2a3f5f\"},\"baxis\":{\"endlinecolor\":\"#2a3f5f\",\"gridcolor\":\"white\",\"linecolor\":\"white\",\"minorgridcolor\":\"white\",\"startlinecolor\":\"#2a3f5f\"},\"type\":\"carpet\"}],\"table\":[{\"cells\":{\"fill\":{\"color\":\"#EBF0F8\"},\"line\":{\"color\":\"white\"}},\"header\":{\"fill\":{\"color\":\"#C8D4E3\"},\"line\":{\"color\":\"white\"}},\"type\":\"table\"}],\"barpolar\":[{\"marker\":{\"line\":{\"color\":\"#E5ECF6\",\"width\":0.5},\"pattern\":{\"fillmode\":\"overlay\",\"size\":10,\"solidity\":0.2}},\"type\":\"barpolar\"}],\"pie\":[{\"automargin\":true,\"type\":\"pie\"}]},\"layout\":{\"autotypenumbers\":\"strict\",\"colorway\":[\"#636efa\",\"#EF553B\",\"#00cc96\",\"#ab63fa\",\"#FFA15A\",\"#19d3f3\",\"#FF6692\",\"#B6E880\",\"#FF97FF\",\"#FECB52\"],\"font\":{\"color\":\"#2a3f5f\"},\"hovermode\":\"closest\",\"hoverlabel\":{\"align\":\"left\"},\"paper_bgcolor\":\"white\",\"plot_bgcolor\":\"#E5ECF6\",\"polar\":{\"bgcolor\":\"#E5ECF6\",\"angularaxis\":{\"gridcolor\":\"white\",\"linecolor\":\"white\",\"ticks\":\"\"},\"radialaxis\":{\"gridcolor\":\"white\",\"linecolor\":\"white\",\"ticks\":\"\"}},\"ternary\":{\"bgcolor\":\"#E5ECF6\",\"aaxis\":{\"gridcolor\":\"white\",\"linecolor\":\"white\",\"ticks\":\"\"},\"baxis\":{\"gridcolor\":\"white\",\"linecolor\":\"white\",\"ticks\":\"\"},\"caxis\":{\"gridcolor\":\"white\",\"linecolor\":\"white\",\"ticks\":\"\"}},\"coloraxis\":{\"colorbar\":{\"outlinewidth\":0,\"ticks\":\"\"}},\"colorscale\":{\"sequential\":[[0.0,\"#0d0887\"],[0.1111111111111111,\"#46039f\"],[0.2222222222222222,\"#7201a8\"],[0.3333333333333333,\"#9c179e\"],[0.4444444444444444,\"#bd3786\"],[0.5555555555555556,\"#d8576b\"],[0.6666666666666666,\"#ed7953\"],[0.7777777777777778,\"#fb9f3a\"],[0.8888888888888888,\"#fdca26\"],[1.0,\"#f0f921\"]],\"sequentialminus\":[[0.0,\"#0d0887\"],[0.1111111111111111,\"#46039f\"],[0.2222222222222222,\"#7201a8\"],[0.3333333333333333,\"#9c179e\"],[0.4444444444444444,\"#bd3786\"],[0.5555555555555556,\"#d8576b\"],[0.6666666666666666,\"#ed7953\"],[0.7777777777777778,\"#fb9f3a\"],[0.8888888888888888,\"#fdca26\"],[1.0,\"#f0f921\"]],\"diverging\":[[0,\"#8e0152\"],[0.1,\"#c51b7d\"],[0.2,\"#de77ae\"],[0.3,\"#f1b6da\"],[0.4,\"#fde0ef\"],[0.5,\"#f7f7f7\"],[0.6,\"#e6f5d0\"],[0.7,\"#b8e186\"],[0.8,\"#7fbc41\"],[0.9,\"#4d9221\"],[1,\"#276419\"]]},\"xaxis\":{\"gridcolor\":\"white\",\"linecolor\":\"white\",\"ticks\":\"\",\"title\":{\"standoff\":15},\"zerolinecolor\":\"white\",\"automargin\":true,\"zerolinewidth\":2},\"yaxis\":{\"gridcolor\":\"white\",\"linecolor\":\"white\",\"ticks\":\"\",\"title\":{\"standoff\":15},\"zerolinecolor\":\"white\",\"automargin\":true,\"zerolinewidth\":2},\"scene\":{\"xaxis\":{\"backgroundcolor\":\"#E5ECF6\",\"gridcolor\":\"white\",\"linecolor\":\"white\",\"showbackground\":true,\"ticks\":\"\",\"zerolinecolor\":\"white\",\"gridwidth\":2},\"yaxis\":{\"backgroundcolor\":\"#E5ECF6\",\"gridcolor\":\"white\",\"linecolor\":\"white\",\"showbackground\":true,\"ticks\":\"\",\"zerolinecolor\":\"white\",\"gridwidth\":2},\"zaxis\":{\"backgroundcolor\":\"#E5ECF6\",\"gridcolor\":\"white\",\"linecolor\":\"white\",\"showbackground\":true,\"ticks\":\"\",\"zerolinecolor\":\"white\",\"gridwidth\":2}},\"shapedefaults\":{\"line\":{\"color\":\"#2a3f5f\"}},\"annotationdefaults\":{\"arrowcolor\":\"#2a3f5f\",\"arrowhead\":0,\"arrowwidth\":1},\"geo\":{\"bgcolor\":\"white\",\"landcolor\":\"#E5ECF6\",\"subunitcolor\":\"white\",\"showland\":true,\"showlakes\":true,\"lakecolor\":\"white\"},\"title\":{\"x\":0.05},\"mapbox\":{\"style\":\"light\"}}},\"xaxis\":{\"anchor\":\"y\",\"domain\":[0.0,0.1388888888888889],\"title\":{\"text\":\"learning_rate\"},\"type\":\"category\",\"categoryorder\":\"array\",\"categoryarray\":[0.01,0.005,0.015,0.02,0.025]},\"yaxis\":{\"anchor\":\"x\",\"domain\":[0.0,1.0],\"title\":{\"text\":\"Objective Value\"}},\"xaxis2\":{\"anchor\":\"y2\",\"domain\":[0.17222222222222222,0.3111111111111111],\"title\":{\"text\":\"max_depth\"}},\"yaxis2\":{\"anchor\":\"x2\",\"domain\":[0.0,1.0],\"matches\":\"y\",\"showticklabels\":false},\"xaxis3\":{\"anchor\":\"y3\",\"domain\":[0.34444444444444444,0.48333333333333334],\"title\":{\"text\":\"min_child_samples\"}},\"yaxis3\":{\"anchor\":\"x3\",\"domain\":[0.0,1.0],\"matches\":\"y\",\"showticklabels\":false},\"xaxis4\":{\"anchor\":\"y4\",\"domain\":[0.5166666666666667,0.6555555555555557],\"title\":{\"text\":\"min_child_weight\"},\"type\":\"category\",\"categoryorder\":\"array\",\"categoryarray\":[0.001,0.0001,1e-05,1e-06,1e-07,0]},\"yaxis4\":{\"anchor\":\"x4\",\"domain\":[0.0,1.0],\"matches\":\"y\",\"showticklabels\":false},\"xaxis5\":{\"anchor\":\"y5\",\"domain\":[0.6888888888888889,0.8277777777777777],\"title\":{\"text\":\"n_estimators\"}},\"yaxis5\":{\"anchor\":\"x5\",\"domain\":[0.0,1.0],\"matches\":\"y\",\"showticklabels\":false},\"xaxis6\":{\"anchor\":\"y6\",\"domain\":[0.861111111111111,1.0],\"title\":{\"text\":\"num_leaves\"}},\"yaxis6\":{\"anchor\":\"x6\",\"domain\":[0.0,1.0],\"matches\":\"y\",\"showticklabels\":false},\"title\":{\"text\":\"Slice Plot\"},\"width\":1800},                        {\"responsive\": true}                    ).then(function(){\n",
       "                            \n",
       "var gd = document.getElementById('58e36b52-9ca6-46b0-8f8c-53c432735854');\n",
       "var x = new MutationObserver(function (mutations, observer) {{\n",
       "        var display = window.getComputedStyle(gd).display;\n",
       "        if (!display || display === 'none') {{\n",
       "            console.log([gd, 'removed!']);\n",
       "            Plotly.purge(gd);\n",
       "            observer.disconnect();\n",
       "        }}\n",
       "}});\n",
       "\n",
       "// Listen for the removal of the full notebook cells\n",
       "var notebookContainer = gd.closest('#notebook-container');\n",
       "if (notebookContainer) {{\n",
       "    x.observe(notebookContainer, {childList: true});\n",
       "}}\n",
       "\n",
       "// Listen for the clearing of the current output cell\n",
       "var outputEl = gd.closest('.output');\n",
       "if (outputEl) {{\n",
       "    x.observe(outputEl, {childList: true});\n",
       "}}\n",
       "\n",
       "                        })                };                });            </script>        </div>"
      ]
     },
     "metadata": {},
     "output_type": "display_data"
    }
   ],
   "source": [
    "best_params = study.best_params\n",
    "print(f\"Best Params: {best_params}\")\n",
    "optuna.visualization.plot_param_importances(study).show()\n",
    "optuna.visualization.plot_optimization_history(study).show()\n",
    "optuna.visualization.plot_slice(study).show()"
   ]
  },
  {
   "cell_type": "code",
   "execution_count": 19,
   "id": "e2d8656e",
   "metadata": {},
   "outputs": [
    {
     "name": "stdout",
     "output_type": "stream",
   "source": [
    "# CatBoostClassifier\n",
    "def objective(trial):\n",
    "    Params = {\n",
    "        'eval_metric':'AUC',\n",
    "        'iterations': 1000,\n",
    "        'depth': trial.suggest_int('depth',1,16),\n",
    "        'learning_rate': trial.suggest_categorical('learning_rate',[0.005 * i for i in range(1,21)]),\n",
    "        'subsample': trial.suggest_categorical('subsample',[0.8,0.9,1]),\n",
    "        'rsm': trial.suggest_categorical('rsm',[0.01*i for i in range(1,21)])s,\n",
    "        'verbose': False\n",
    "             }\n",
    "    \n",
    "    cat_mcc = []\n",
    "    for i in range(k):\n",
    "        X_kos = X_kos_folds[i]\n",
    "        y_kos = y_kos_folds[i]\n",
    "        df_test = df_test_folds[i]\n",
    "        feat_cols = feat_cols_folds[i]\n",
    "        \n",
    "        # Cat_features\n",
    "        cat_features = np.where(X_kos.dtypes != np.float64)[0]\n",
    "\n",
    "        # Train the model on the entire dataset\n",
    "        cat_model = CatBoostClassifier(**cat_params)\n",
    "        train_pool = Pool(X_kos, y_kos, cat_features=cat_features)\n",
    "        cat_model.fit(train_pool)\n",
    "\n",
    "        # Make predictions on the test set\n",
    "        test_pool = Pool(df_test[feat_cols], cat_features=cat_features)\n",
    "        test_predictions = cat_model.predict_proba(test_pool)[:, 1]\n",
    "        test_labels = [i >= 0.5 for i in test_predictions]\n",
    "        mcc = MCC(df_test['y'], test_labels)\n",
    "        cat_mcc.append(mcc)\n",
    "\n",
    "        # train the model\n",
    "        cat_model = CatBoostClassifier(**Params)\n",
    "        cat_model.fit(X_kos,y_kos)\n",
    "        test_predictions = cat_model.predict_proba(df_test[feat_cols])[:, 1]\n",
    "        test_labels = [i >= 0.5 for i in test_predictions]\n",
    "        mcc = MCC(df_test['y'], test_labels)\n",
    "        cat_mcc.append(mcc)\n",
    "\n",
    "    return sum(cat_mcc)/5\n",
    "\n",
    "study = optuna.create_study(direction='maximize')\n",
    "study.optimize(objective, n_trials=50,show_progress_bar=True)"
   ]
  },
  {
   "cell_type": "code",
   "execution_count": 21,
   "id": "6b3b0559",
   "metadata": {},
   "outputs": [
    {
     "data": {
      "image/png": "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",
      "text/plain": [
       "<Figure size 640x480 with 2 Axes>"
      ]
     },
     "metadata": {},
     "output_type": "display_data"
    }
   ],
   "source": [
    "best_params = study.best_params\n",
    "print(f\"Best Params: {best_params}\")\n",
    "optuna.visualization.plot_param_importances(study).show()\n",
    "optuna.visualization.plot_optimization_history(study).show()\n",
    "optuna.visualization.plot_slice(study).show()"
   ]
  },
  {
   "cell_type": "code",
   "execution_count": 20,
   "id": "5d4672e5",
   "metadata": {},
   "outputs": [
    {
     "name": "stdout",
     "output_type": "stream",
     "text": [
      "Cross-validation scores: [0.99303751 0.99204872 0.99225771 0.99206444 0.99166991]\n",
      "Mean AUC: 0.9922156587319659\n"
     ]
    }
   ],
   "source": [
    "# XGBoost Parameters\n",
    "def objective(trial):\n",
    "    Params = {\n",
    "        'n_estimators': ttrial.suggest_int('n_estimators',10,1000),\n",
    "        'num_leaves': trial.suggest_int('num_leaves', 100, 1000),\n",
    "#         'learning_rate': trial.suggest_categorical('learning_rate',[0.005 * i for i in range(1,21)]),\n",
    "#         'max_depth':trial.suggest_int('max_depth',10,50),\n",
    "#         'min_child_weight': trial.suggest_categorical('min_child_weight',[0.01,0.001,0.0001,0.00001,0.000001,0]),\n",
    "#         'min_child_samples': trial.suggest_int('min_child_samples',10, 50),\n",
    "#         'subsample': trial.suggest_categorical('subsample',[0.8,0.9,1]),\n",
    "#         'colsample_bytree': trial.suggest_categorical('colsample_bytree',[0.8,0.9,1]),\n",
    "        'objective': 'binary:logistic',\n",
    "        'eval_metric': 'auc'\n",
    "             }\n",
    "    \n",
    "    xgb_mcc = []\n",
    "    for i in range(k):\n",
    "        X_kos = X_kos_folds[i]\n",
    "        y_kos = y_kos_folds[i]\n",
    "        df_test = df_test_folds[i]\n",
    "        feat_cols = feat_cols_folds[i]\n",
    "\n",
    "        # train the model\n",
    "        xgb_model = xgb.XGBClassifier(**Params)\n",
    "        xgb_model.fit(X_kos,y_kos)\n",
    "        test_predictions = xgb_model.predict_proba(df_test[feat_cols])[:, 1]\n",
    "        test_labels = [i >= 0.5 for i in test_predictions]\n",
    "        mcc = MCC(df_test['y'], test_labels)\n",
    "        xgb_mcc.append(mcc)\n",
    "\n",
    "    return sum(xgb_mcc)/5\n",
    "\n",
    "study = optuna.create_study(direction='maximize')\n",
    "study.optimize(objective, n_trials=50,show_progress_bar=True)"
   ]
  },
  {
   "cell_type": "code",
   "execution_count": 21,
   "id": "97010e3d",
   "metadata": {},
   "outputs": [
    {
     "data": {
      "text/plain": [
       "array([[3994,    6],\n",
       "       [   1,  520]], dtype=int64)"
      ]
     },
     "execution_count": 21,
     "metadata": {},
     "output_type": "execute_result"
    }
   ],
   "source": [
    "best_params = study.best_params\n",
    "print(f\"Best Params: {best_params}\")\n",
    "optuna.visualization.plot_param_importances(study).show()\n",
    "optuna.visualization.plot_optimization_history(study).show()\n",
    "optuna.visualization.plot_slice(study).show()"
   ]
  },
  {
   "cell_type": "code",
   "execution_count": 27,
   "id": "9689f5c3",
   "metadata": {},
   "outputs": [
    {
     "name": "stdout",
     "output_type": "stream",
     "text": [
      "Cross-validation scores: [0.98766194 0.98887224 0.98755529 0.9879586  0.98878489]\n",
      "Mean AUC: 0.9881665932530626\n"
     ]
    }
   ],
   "source": [
    "# Random Forest\n",
    "def objective(trial):\n",
    "    Params = {\n",
    "        'n_estimators': trial.suggest_int('n_estimators',10,1000),\n",
    "        'max_features': trial.suggest_int('num_leaves', 5, 32),\n",
    "             }\n",
    "\n",
    "    rf_mcc = []\n",
    "    for i in range(k):\n",
    "        X_kos = X_kos_folds[i]\n",
    "        y_kos = y_kos_folds[i]\n",
    "        df_test = df_test_folds[i]\n",
    "        feat_cols = feat_cols_folds[i]\n",
    "\n",
    "        # train the model\n",
    "        rf = RandomForestClassifier(**Params)\n",
    "        rf_model.fit(X_kos,y_kos)\n",
    "        test_predictions = rf_model.predict_proba(df_test[feat_cols])[:, 1]\n",
    "        test_labels = [i >= 0.5 for i in test_predictions]\n",
    "        mcc = MCC(df_test['y'], test_labels)\n",
    "        rf_mcc.append(mcc)\n",
    "\n",
    "    return sum(rf_mcc)/5\n",
    "\n",
    "study = optuna.create_study(direction='maximize')\n",
    "study.optimize(objective, n_trials=50,show_progress_bar=True)    \n",
    "    \n",
    "rf = RandomForestClassifier(**rf_params)\n",
    "rf_cv_scores = cross_val_score(rf, X_kos, y_kos, cv=cv, scoring='roc_auc')\n",
    "\n",
    "print(\"Cross-validation scores:\", rf_cv_scores)\n",
    "print(\"Mean AUC:\", rf_cv_scores.mean())"
   ]
  },
  {
   "cell_type": "code",
   "execution_count": 28,
   "id": "06480f4b",
   "metadata": {},
   "outputs": [
    {
     "name": "stdout",
     "output_type": "stream",
     "text": [
      "[[3989   11]\n",
      " [   1  520]]\n"
     ]
    },
    {
     "data": {
      "text/plain": [
       "0.987148548242192"
      ]
     },
     "execution_count": 28,
     "metadata": {},
     "output_type": "execute_result"
    }
   ],
   "source": [
    "best_params = study.best_params\n",
    "print(f\"Best Params: {best_params}\")\n",
    "optuna.visualization.plot_param_importances(study).show()\n",
    "optuna.visualization.plot_optimization_history(study).show()\n",
    "optuna.visualization.plot_slice(study).show()"
   ]
  },
  {
   "cell_type": "code",
   "execution_count": null,
   "id": "eeae316b",
   "metadata": {},
   "outputs": [],
   "source": []
  },
  {
   "cell_type": "code",
   "execution_count": null,
   "id": "72b8a410",
   "metadata": {},
   "outputs": [],
   "source": []
  },
  {
   "cell_type": "code",
   "execution_count": null,
   "id": "2432eda7",
   "metadata": {},
   "outputs": [],
   "source": []
  },
  {
   "cell_type": "code",
   "execution_count": null,
   "id": "06dd8f27",
   "metadata": {},
   "outputs": [],
   "source": []
  },
  {
   "cell_type": "code",
   "execution_count": null,
   "id": "4dba313e",
   "metadata": {},
   "outputs": [],
   "source": []
  },
  {
   "cell_type": "code",
   "execution_count": null,
   "id": "1dd3ab51",
   "metadata": {},
   "outputs": [],
   "source": []
  },
  {
   "cell_type": "code",
   "execution_count": null,
   "id": "4b566894",
   "metadata": {},
   "outputs": [],
   "source": []
  }
 ],
 "metadata": {
  "kernelspec": {
   "display_name": "Python 3 (ipykernel)",
   "language": "python",
   "name": "python3"
  },
  "language_info": {
   "codemirror_mode": {
    "name": "ipython",
    "version": 3
   },
   "file_extension": ".py",
   "mimetype": "text/x-python",
   "name": "python",
   "nbconvert_exporter": "python",
   "pygments_lexer": "ipython3",
   "version": "3.10.13"
  }
 },
 "nbformat": 4,
 "nbformat_minor": 5
}
