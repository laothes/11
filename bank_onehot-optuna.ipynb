# before prediction we need to fit the data
catParams = {'eval_metric':'AUC',
             'iterations': trial.suggest_int('iterations',500,1500),
             'depth': trial.suggest_int('depth',1,16),# 19
             'learning_rate': trial.suggest_float('learning_rate',0.01,0.07),
             'subsample': trial.suggest_categorical('subsample',[0.6,0.7,0.8,0.9,1]),
             'rsm': trial.suggest_float('rsm',0.1,1)}

cat_model = CatBoostClassifier(**catParams)
lgb_cv_scores = cross_val_score(cat_model, X_kos, y_kos, cv=5, scoring='roc_auc')
print(lgb_cv_scores)
print(lgb_cv_scores.mean())
